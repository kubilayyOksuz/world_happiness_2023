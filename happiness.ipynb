{
 "cells": [
  {
   "cell_type": "markdown",
   "metadata": {},
   "source": [
    "# World Happiness Report - 2023"
   ]
  },
  {
   "cell_type": "markdown",
   "metadata": {},
   "source": [
    "The World Happiness Report is a report put by Gallup, the Oxford Wellbeing Research Centre, the UN Sustainable Development Solutions Network and WHR's Editorial Board. By its own criterias and using the science of happiness, it basically shows countries' state of happiness. Life evaluations from the Gallup World Poll provide the basis for the annual happiness rankings. They are based on answers to the main life evaluation question. The Cantril Ladder asks respondents to think of a ladder, with the best possible life for them being a 10 and the worst possible life being a 0. They are then asked to rate their own current lives on that 0 to 10 scale. The rankings are from nationally representative samples over three years.\n",
    "\n",
    "Source: https://worldhappiness.report"
   ]
  },
  {
   "cell_type": "markdown",
   "metadata": {},
   "source": [
    "World Happiness Report 2023 Dataset: https://www.kaggle.com/datasets/ajaypalsinghlo/world-happiness-report-2023  \n",
    "Country Mapping Dataset: https://www.kaggle.com/datasets/andradaolteanu/country-mapping-iso-continent-region\n",
    "\n",
    "In this notebook, only the ladder score and the ranks of the countries will be used. Other factors are going to be added to measurement later."
   ]
  },
  {
   "cell_type": "markdown",
   "metadata": {},
   "source": [
    "## Table of Contents\n",
    "1. [First Step: Preparing Dataframes](#importing-libraries-and-reading-csv-file)\n",
    "    1. [Information](#information-about-the-dataframes)\n",
    "    2. [Dropping Columns](#dropping-unused-columns-from-both-dataframes)\n",
    "    3. [Renaming Columns](#renaming-existing-columns)\n",
    "    4. [Creating A New Column](#creating-a-new-column)\n",
    "\n",
    "2. [Second Step: Merging Dataframes](#merging-two-dataframes)\n",
    "    1. [Finding Null Values](#finding-columns-with-null-values)\n",
    "    \n",
    "3. [Third Step: Plotting](#plotting)\n",
    "    1. [Happy - Unhappy](#happy---unhappy)\n",
    "    2. [Top 10 and Bottom 10](#top-10---bottom-10-plot)\n",
    "    3. [Happiness by Region](#happiness-by-region)\n",
    "    4. [Happiness Rank on the Maps](#happiness-rank-on-the-maps)"
   ]
  },
  {
   "cell_type": "markdown",
   "metadata": {},
   "source": [
    "---"
   ]
  },
  {
   "cell_type": "markdown",
   "metadata": {},
   "source": [
    "## Importing Libraries and Reading CSV File"
   ]
  },
  {
   "cell_type": "code",
   "execution_count": 64,
   "metadata": {},
   "outputs": [],
   "source": [
    "import pandas as pd\n",
    "import matplotlib.pyplot as plt\n",
    "import plotly.express as px"
   ]
  },
  {
   "cell_type": "code",
   "execution_count": 65,
   "metadata": {},
   "outputs": [],
   "source": [
    "# Creating two dataframes from two CSV files\n",
    "df = pd.read_csv(\"WHR2023.csv\")\n",
    "country_map = pd.read_csv(\"continents2.csv\")\n",
    "\n",
    "# This is a personal choice, doesn't affect anything\n",
    "plt.style.use(\"fivethirtyeight\")"
   ]
  },
  {
   "cell_type": "markdown",
   "metadata": {},
   "source": [
    "### Information about the dataframes"
   ]
  },
  {
   "cell_type": "code",
   "execution_count": 66,
   "metadata": {},
   "outputs": [
    {
     "name": "stdout",
     "output_type": "stream",
     "text": [
      "<class 'pandas.core.frame.DataFrame'>\n",
      "RangeIndex: 137 entries, 0 to 136\n",
      "Data columns (total 19 columns):\n",
      " #   Column                                      Non-Null Count  Dtype  \n",
      "---  ------                                      --------------  -----  \n",
      " 0   Country name                                137 non-null    object \n",
      " 1   Ladder score                                137 non-null    float64\n",
      " 2   Standard error of ladder score              137 non-null    float64\n",
      " 3   upperwhisker                                137 non-null    float64\n",
      " 4   lowerwhisker                                137 non-null    float64\n",
      " 5   Logged GDP per capita                       137 non-null    float64\n",
      " 6   Social support                              137 non-null    float64\n",
      " 7   Healthy life expectancy                     136 non-null    float64\n",
      " 8   Freedom to make life choices                137 non-null    float64\n",
      " 9   Generosity                                  137 non-null    float64\n",
      " 10  Perceptions of corruption                   137 non-null    float64\n",
      " 11  Ladder score in Dystopia                    137 non-null    float64\n",
      " 12  Explained by: Log GDP per capita            137 non-null    float64\n",
      " 13  Explained by: Social support                137 non-null    float64\n",
      " 14  Explained by: Healthy life expectancy       136 non-null    float64\n",
      " 15  Explained by: Freedom to make life choices  137 non-null    float64\n",
      " 16  Explained by: Generosity                    137 non-null    float64\n",
      " 17  Explained by: Perceptions of corruption     137 non-null    float64\n",
      " 18  Dystopia + residual                         136 non-null    float64\n",
      "dtypes: float64(18), object(1)\n",
      "memory usage: 20.5+ KB\n"
     ]
    }
   ],
   "source": [
    "df.info()"
   ]
  },
  {
   "cell_type": "code",
   "execution_count": 67,
   "metadata": {},
   "outputs": [
    {
     "name": "stdout",
     "output_type": "stream",
     "text": [
      "<class 'pandas.core.frame.DataFrame'>\n",
      "RangeIndex: 249 entries, 0 to 248\n",
      "Data columns (total 11 columns):\n",
      " #   Column                    Non-Null Count  Dtype  \n",
      "---  ------                    --------------  -----  \n",
      " 0   name                      249 non-null    object \n",
      " 1   alpha-2                   248 non-null    object \n",
      " 2   alpha-3                   249 non-null    object \n",
      " 3   country-code              249 non-null    int64  \n",
      " 4   iso_3166-2                249 non-null    object \n",
      " 5   region                    248 non-null    object \n",
      " 6   sub-region                248 non-null    object \n",
      " 7   intermediate-region       107 non-null    object \n",
      " 8   region-code               248 non-null    float64\n",
      " 9   sub-region-code           248 non-null    float64\n",
      " 10  intermediate-region-code  107 non-null    float64\n",
      "dtypes: float64(3), int64(1), object(7)\n",
      "memory usage: 21.5+ KB\n"
     ]
    }
   ],
   "source": [
    "country_map.info()"
   ]
  },
  {
   "cell_type": "markdown",
   "metadata": {},
   "source": [
    "### Dropping unused columns from both dataframes"
   ]
  },
  {
   "cell_type": "code",
   "execution_count": 68,
   "metadata": {},
   "outputs": [],
   "source": [
    "# These columns are not going to be used. The first colon selects all, then the columns within the range will be dropped\n",
    "df.drop(df.loc[:, \"Ladder score in Dystopia\": \"Dystopia + residual\"], axis=1, inplace=True)\n",
    "df.drop(df.loc[:, \"Standard error of ladder score\": \"lowerwhisker\"], axis=1, inplace=True)"
   ]
  },
  {
   "cell_type": "code",
   "execution_count": 69,
   "metadata": {},
   "outputs": [],
   "source": [
    "country_map.drop([\"alpha-2\", \"country-code\", \"iso_3166-2\"], axis=1, inplace=True)\n",
    "country_map.drop(country_map.loc[:, \"intermediate-region\": \"intermediate-region-code\"], axis=1, inplace=True)"
   ]
  },
  {
   "cell_type": "code",
   "execution_count": 70,
   "metadata": {},
   "outputs": [
    {
     "data": {
      "text/html": [
       "<div>\n",
       "<style scoped>\n",
       "    .dataframe tbody tr th:only-of-type {\n",
       "        vertical-align: middle;\n",
       "    }\n",
       "\n",
       "    .dataframe tbody tr th {\n",
       "        vertical-align: top;\n",
       "    }\n",
       "\n",
       "    .dataframe thead th {\n",
       "        text-align: right;\n",
       "    }\n",
       "</style>\n",
       "<table border=\"1\" class=\"dataframe\">\n",
       "  <thead>\n",
       "    <tr style=\"text-align: right;\">\n",
       "      <th></th>\n",
       "      <th>Country name</th>\n",
       "      <th>Ladder score</th>\n",
       "      <th>Logged GDP per capita</th>\n",
       "      <th>Social support</th>\n",
       "      <th>Healthy life expectancy</th>\n",
       "      <th>Freedom to make life choices</th>\n",
       "      <th>Generosity</th>\n",
       "      <th>Perceptions of corruption</th>\n",
       "    </tr>\n",
       "  </thead>\n",
       "  <tbody>\n",
       "    <tr>\n",
       "      <th>0</th>\n",
       "      <td>Finland</td>\n",
       "      <td>7.804</td>\n",
       "      <td>10.792</td>\n",
       "      <td>0.969</td>\n",
       "      <td>71.150</td>\n",
       "      <td>0.961</td>\n",
       "      <td>-0.019</td>\n",
       "      <td>0.182</td>\n",
       "    </tr>\n",
       "    <tr>\n",
       "      <th>1</th>\n",
       "      <td>Denmark</td>\n",
       "      <td>7.586</td>\n",
       "      <td>10.962</td>\n",
       "      <td>0.954</td>\n",
       "      <td>71.250</td>\n",
       "      <td>0.934</td>\n",
       "      <td>0.134</td>\n",
       "      <td>0.196</td>\n",
       "    </tr>\n",
       "    <tr>\n",
       "      <th>2</th>\n",
       "      <td>Iceland</td>\n",
       "      <td>7.530</td>\n",
       "      <td>10.896</td>\n",
       "      <td>0.983</td>\n",
       "      <td>72.050</td>\n",
       "      <td>0.936</td>\n",
       "      <td>0.211</td>\n",
       "      <td>0.668</td>\n",
       "    </tr>\n",
       "    <tr>\n",
       "      <th>3</th>\n",
       "      <td>Israel</td>\n",
       "      <td>7.473</td>\n",
       "      <td>10.639</td>\n",
       "      <td>0.943</td>\n",
       "      <td>72.697</td>\n",
       "      <td>0.809</td>\n",
       "      <td>-0.023</td>\n",
       "      <td>0.708</td>\n",
       "    </tr>\n",
       "    <tr>\n",
       "      <th>4</th>\n",
       "      <td>Netherlands</td>\n",
       "      <td>7.403</td>\n",
       "      <td>10.942</td>\n",
       "      <td>0.930</td>\n",
       "      <td>71.550</td>\n",
       "      <td>0.887</td>\n",
       "      <td>0.213</td>\n",
       "      <td>0.379</td>\n",
       "    </tr>\n",
       "  </tbody>\n",
       "</table>\n",
       "</div>"
      ],
      "text/plain": [
       "  Country name  Ladder score  Logged GDP per capita  Social support  \\\n",
       "0      Finland         7.804                 10.792           0.969   \n",
       "1      Denmark         7.586                 10.962           0.954   \n",
       "2      Iceland         7.530                 10.896           0.983   \n",
       "3       Israel         7.473                 10.639           0.943   \n",
       "4  Netherlands         7.403                 10.942           0.930   \n",
       "\n",
       "   Healthy life expectancy  Freedom to make life choices  Generosity  \\\n",
       "0                   71.150                         0.961      -0.019   \n",
       "1                   71.250                         0.934       0.134   \n",
       "2                   72.050                         0.936       0.211   \n",
       "3                   72.697                         0.809      -0.023   \n",
       "4                   71.550                         0.887       0.213   \n",
       "\n",
       "   Perceptions of corruption  \n",
       "0                      0.182  \n",
       "1                      0.196  \n",
       "2                      0.668  \n",
       "3                      0.708  \n",
       "4                      0.379  "
      ]
     },
     "execution_count": 70,
     "metadata": {},
     "output_type": "execute_result"
    }
   ],
   "source": [
    "df.head()"
   ]
  },
  {
   "cell_type": "code",
   "execution_count": 71,
   "metadata": {},
   "outputs": [
    {
     "data": {
      "text/html": [
       "<div>\n",
       "<style scoped>\n",
       "    .dataframe tbody tr th:only-of-type {\n",
       "        vertical-align: middle;\n",
       "    }\n",
       "\n",
       "    .dataframe tbody tr th {\n",
       "        vertical-align: top;\n",
       "    }\n",
       "\n",
       "    .dataframe thead th {\n",
       "        text-align: right;\n",
       "    }\n",
       "</style>\n",
       "<table border=\"1\" class=\"dataframe\">\n",
       "  <thead>\n",
       "    <tr style=\"text-align: right;\">\n",
       "      <th></th>\n",
       "      <th>name</th>\n",
       "      <th>alpha-3</th>\n",
       "      <th>region</th>\n",
       "      <th>sub-region</th>\n",
       "    </tr>\n",
       "  </thead>\n",
       "  <tbody>\n",
       "    <tr>\n",
       "      <th>0</th>\n",
       "      <td>Afghanistan</td>\n",
       "      <td>AFG</td>\n",
       "      <td>Asia</td>\n",
       "      <td>Southern Asia</td>\n",
       "    </tr>\n",
       "    <tr>\n",
       "      <th>1</th>\n",
       "      <td>Åland Islands</td>\n",
       "      <td>ALA</td>\n",
       "      <td>Europe</td>\n",
       "      <td>Northern Europe</td>\n",
       "    </tr>\n",
       "    <tr>\n",
       "      <th>2</th>\n",
       "      <td>Albania</td>\n",
       "      <td>ALB</td>\n",
       "      <td>Europe</td>\n",
       "      <td>Southern Europe</td>\n",
       "    </tr>\n",
       "    <tr>\n",
       "      <th>3</th>\n",
       "      <td>Algeria</td>\n",
       "      <td>DZA</td>\n",
       "      <td>Africa</td>\n",
       "      <td>Northern Africa</td>\n",
       "    </tr>\n",
       "    <tr>\n",
       "      <th>4</th>\n",
       "      <td>American Samoa</td>\n",
       "      <td>ASM</td>\n",
       "      <td>Oceania</td>\n",
       "      <td>Polynesia</td>\n",
       "    </tr>\n",
       "  </tbody>\n",
       "</table>\n",
       "</div>"
      ],
      "text/plain": [
       "             name alpha-3   region       sub-region\n",
       "0     Afghanistan     AFG     Asia    Southern Asia\n",
       "1   Åland Islands     ALA   Europe  Northern Europe\n",
       "2         Albania     ALB   Europe  Southern Europe\n",
       "3         Algeria     DZA   Africa  Northern Africa\n",
       "4  American Samoa     ASM  Oceania        Polynesia"
      ]
     },
     "execution_count": 71,
     "metadata": {},
     "output_type": "execute_result"
    }
   ],
   "source": [
    "country_map.head()"
   ]
  },
  {
   "cell_type": "markdown",
   "metadata": {},
   "source": [
    "### Renaming existing columns"
   ]
  },
  {
   "cell_type": "code",
   "execution_count": 72,
   "metadata": {},
   "outputs": [],
   "source": [
    "# For better readability, column names are changed\n",
    "df.rename({\n",
    "    \"Country name\": \"country_name\",\n",
    "    \"Ladder score\": \"ladder_score\",\n",
    "    \"Logged GDP per capita\": \"log_gdp_per_capita\",\n",
    "    \"Social support\": \"social_support\",\n",
    "    \"Healthy life expectancy\": \"healthy_life_expectancy\",\n",
    "    \"Freedom to make life choises\": \"freedom\",\n",
    "    \"Generosity\": \"generosity\",\n",
    "    \"Perceptions of corruption\": \"perceptions_of_corruptance\"\n",
    "}, axis=1, inplace=True)"
   ]
  },
  {
   "cell_type": "code",
   "execution_count": 73,
   "metadata": {},
   "outputs": [],
   "source": [
    "# country_name is the same because two dataframes are going to be merged by this column\n",
    "country_map.rename({\n",
    "    \"name\": \"country_name\",\n",
    "    \"alpha-3\": \"iso_alpha\",\n",
    "    \"sub-region\": \"sub_region\"\n",
    "}, axis=1, inplace=True)"
   ]
  },
  {
   "cell_type": "markdown",
   "metadata": {},
   "source": [
    "### Creating a New Column"
   ]
  },
  {
   "cell_type": "code",
   "execution_count": 74,
   "metadata": {},
   "outputs": [],
   "source": [
    "# Creating integer \"rank\" column\n",
    "df[\"rank\"] = df[\"ladder_score\"].rank(ascending=False).astype(\"int\")"
   ]
  },
  {
   "cell_type": "code",
   "execution_count": 75,
   "metadata": {},
   "outputs": [],
   "source": [
    "# Changing the \"rank\" column's index\n",
    "df.insert(2, \"rank\", df.pop(\"rank\"))"
   ]
  },
  {
   "cell_type": "code",
   "execution_count": 76,
   "metadata": {},
   "outputs": [
    {
     "data": {
      "text/html": [
       "<div>\n",
       "<style scoped>\n",
       "    .dataframe tbody tr th:only-of-type {\n",
       "        vertical-align: middle;\n",
       "    }\n",
       "\n",
       "    .dataframe tbody tr th {\n",
       "        vertical-align: top;\n",
       "    }\n",
       "\n",
       "    .dataframe thead th {\n",
       "        text-align: right;\n",
       "    }\n",
       "</style>\n",
       "<table border=\"1\" class=\"dataframe\">\n",
       "  <thead>\n",
       "    <tr style=\"text-align: right;\">\n",
       "      <th></th>\n",
       "      <th>country_name</th>\n",
       "      <th>ladder_score</th>\n",
       "      <th>rank</th>\n",
       "      <th>log_gdp_per_capita</th>\n",
       "      <th>social_support</th>\n",
       "      <th>healthy_life_expectancy</th>\n",
       "      <th>Freedom to make life choices</th>\n",
       "      <th>generosity</th>\n",
       "      <th>perceptions_of_corruptance</th>\n",
       "    </tr>\n",
       "  </thead>\n",
       "  <tbody>\n",
       "    <tr>\n",
       "      <th>0</th>\n",
       "      <td>Finland</td>\n",
       "      <td>7.804</td>\n",
       "      <td>1</td>\n",
       "      <td>10.792</td>\n",
       "      <td>0.969</td>\n",
       "      <td>71.150</td>\n",
       "      <td>0.961</td>\n",
       "      <td>-0.019</td>\n",
       "      <td>0.182</td>\n",
       "    </tr>\n",
       "    <tr>\n",
       "      <th>1</th>\n",
       "      <td>Denmark</td>\n",
       "      <td>7.586</td>\n",
       "      <td>2</td>\n",
       "      <td>10.962</td>\n",
       "      <td>0.954</td>\n",
       "      <td>71.250</td>\n",
       "      <td>0.934</td>\n",
       "      <td>0.134</td>\n",
       "      <td>0.196</td>\n",
       "    </tr>\n",
       "    <tr>\n",
       "      <th>2</th>\n",
       "      <td>Iceland</td>\n",
       "      <td>7.530</td>\n",
       "      <td>3</td>\n",
       "      <td>10.896</td>\n",
       "      <td>0.983</td>\n",
       "      <td>72.050</td>\n",
       "      <td>0.936</td>\n",
       "      <td>0.211</td>\n",
       "      <td>0.668</td>\n",
       "    </tr>\n",
       "    <tr>\n",
       "      <th>3</th>\n",
       "      <td>Israel</td>\n",
       "      <td>7.473</td>\n",
       "      <td>4</td>\n",
       "      <td>10.639</td>\n",
       "      <td>0.943</td>\n",
       "      <td>72.697</td>\n",
       "      <td>0.809</td>\n",
       "      <td>-0.023</td>\n",
       "      <td>0.708</td>\n",
       "    </tr>\n",
       "    <tr>\n",
       "      <th>4</th>\n",
       "      <td>Netherlands</td>\n",
       "      <td>7.403</td>\n",
       "      <td>5</td>\n",
       "      <td>10.942</td>\n",
       "      <td>0.930</td>\n",
       "      <td>71.550</td>\n",
       "      <td>0.887</td>\n",
       "      <td>0.213</td>\n",
       "      <td>0.379</td>\n",
       "    </tr>\n",
       "  </tbody>\n",
       "</table>\n",
       "</div>"
      ],
      "text/plain": [
       "  country_name  ladder_score  rank  log_gdp_per_capita  social_support  \\\n",
       "0      Finland         7.804     1              10.792           0.969   \n",
       "1      Denmark         7.586     2              10.962           0.954   \n",
       "2      Iceland         7.530     3              10.896           0.983   \n",
       "3       Israel         7.473     4              10.639           0.943   \n",
       "4  Netherlands         7.403     5              10.942           0.930   \n",
       "\n",
       "   healthy_life_expectancy  Freedom to make life choices  generosity  \\\n",
       "0                   71.150                         0.961      -0.019   \n",
       "1                   71.250                         0.934       0.134   \n",
       "2                   72.050                         0.936       0.211   \n",
       "3                   72.697                         0.809      -0.023   \n",
       "4                   71.550                         0.887       0.213   \n",
       "\n",
       "   perceptions_of_corruptance  \n",
       "0                       0.182  \n",
       "1                       0.196  \n",
       "2                       0.668  \n",
       "3                       0.708  \n",
       "4                       0.379  "
      ]
     },
     "execution_count": 76,
     "metadata": {},
     "output_type": "execute_result"
    }
   ],
   "source": [
    "df.head()"
   ]
  },
  {
   "cell_type": "markdown",
   "metadata": {},
   "source": [
    "---"
   ]
  },
  {
   "cell_type": "markdown",
   "metadata": {},
   "source": [
    "## Merging Two Dataframes"
   ]
  },
  {
   "cell_type": "code",
   "execution_count": 77,
   "metadata": {},
   "outputs": [
    {
     "data": {
      "text/html": [
       "<div>\n",
       "<style scoped>\n",
       "    .dataframe tbody tr th:only-of-type {\n",
       "        vertical-align: middle;\n",
       "    }\n",
       "\n",
       "    .dataframe tbody tr th {\n",
       "        vertical-align: top;\n",
       "    }\n",
       "\n",
       "    .dataframe thead th {\n",
       "        text-align: right;\n",
       "    }\n",
       "</style>\n",
       "<table border=\"1\" class=\"dataframe\">\n",
       "  <thead>\n",
       "    <tr style=\"text-align: right;\">\n",
       "      <th></th>\n",
       "      <th>country_name</th>\n",
       "      <th>ladder_score</th>\n",
       "      <th>rank</th>\n",
       "      <th>log_gdp_per_capita</th>\n",
       "      <th>social_support</th>\n",
       "      <th>healthy_life_expectancy</th>\n",
       "      <th>Freedom to make life choices</th>\n",
       "      <th>generosity</th>\n",
       "      <th>perceptions_of_corruptance</th>\n",
       "      <th>iso_alpha</th>\n",
       "      <th>region</th>\n",
       "      <th>sub_region</th>\n",
       "    </tr>\n",
       "  </thead>\n",
       "  <tbody>\n",
       "    <tr>\n",
       "      <th>0</th>\n",
       "      <td>Finland</td>\n",
       "      <td>7.804</td>\n",
       "      <td>1</td>\n",
       "      <td>10.792</td>\n",
       "      <td>0.969</td>\n",
       "      <td>71.150</td>\n",
       "      <td>0.961</td>\n",
       "      <td>-0.019</td>\n",
       "      <td>0.182</td>\n",
       "      <td>FIN</td>\n",
       "      <td>Europe</td>\n",
       "      <td>Northern Europe</td>\n",
       "    </tr>\n",
       "    <tr>\n",
       "      <th>1</th>\n",
       "      <td>Denmark</td>\n",
       "      <td>7.586</td>\n",
       "      <td>2</td>\n",
       "      <td>10.962</td>\n",
       "      <td>0.954</td>\n",
       "      <td>71.250</td>\n",
       "      <td>0.934</td>\n",
       "      <td>0.134</td>\n",
       "      <td>0.196</td>\n",
       "      <td>DNK</td>\n",
       "      <td>Europe</td>\n",
       "      <td>Northern Europe</td>\n",
       "    </tr>\n",
       "    <tr>\n",
       "      <th>2</th>\n",
       "      <td>Iceland</td>\n",
       "      <td>7.530</td>\n",
       "      <td>3</td>\n",
       "      <td>10.896</td>\n",
       "      <td>0.983</td>\n",
       "      <td>72.050</td>\n",
       "      <td>0.936</td>\n",
       "      <td>0.211</td>\n",
       "      <td>0.668</td>\n",
       "      <td>ISL</td>\n",
       "      <td>Europe</td>\n",
       "      <td>Northern Europe</td>\n",
       "    </tr>\n",
       "    <tr>\n",
       "      <th>3</th>\n",
       "      <td>Israel</td>\n",
       "      <td>7.473</td>\n",
       "      <td>4</td>\n",
       "      <td>10.639</td>\n",
       "      <td>0.943</td>\n",
       "      <td>72.697</td>\n",
       "      <td>0.809</td>\n",
       "      <td>-0.023</td>\n",
       "      <td>0.708</td>\n",
       "      <td>ISR</td>\n",
       "      <td>Asia</td>\n",
       "      <td>Western Asia</td>\n",
       "    </tr>\n",
       "    <tr>\n",
       "      <th>4</th>\n",
       "      <td>Netherlands</td>\n",
       "      <td>7.403</td>\n",
       "      <td>5</td>\n",
       "      <td>10.942</td>\n",
       "      <td>0.930</td>\n",
       "      <td>71.550</td>\n",
       "      <td>0.887</td>\n",
       "      <td>0.213</td>\n",
       "      <td>0.379</td>\n",
       "      <td>NLD</td>\n",
       "      <td>Europe</td>\n",
       "      <td>Western Europe</td>\n",
       "    </tr>\n",
       "    <tr>\n",
       "      <th>...</th>\n",
       "      <td>...</td>\n",
       "      <td>...</td>\n",
       "      <td>...</td>\n",
       "      <td>...</td>\n",
       "      <td>...</td>\n",
       "      <td>...</td>\n",
       "      <td>...</td>\n",
       "      <td>...</td>\n",
       "      <td>...</td>\n",
       "      <td>...</td>\n",
       "      <td>...</td>\n",
       "      <td>...</td>\n",
       "    </tr>\n",
       "    <tr>\n",
       "      <th>132</th>\n",
       "      <td>Congo (Kinshasa)</td>\n",
       "      <td>3.207</td>\n",
       "      <td>133</td>\n",
       "      <td>7.007</td>\n",
       "      <td>0.652</td>\n",
       "      <td>55.375</td>\n",
       "      <td>0.664</td>\n",
       "      <td>0.086</td>\n",
       "      <td>0.834</td>\n",
       "      <td>NaN</td>\n",
       "      <td>NaN</td>\n",
       "      <td>NaN</td>\n",
       "    </tr>\n",
       "    <tr>\n",
       "      <th>133</th>\n",
       "      <td>Zimbabwe</td>\n",
       "      <td>3.204</td>\n",
       "      <td>134</td>\n",
       "      <td>7.641</td>\n",
       "      <td>0.690</td>\n",
       "      <td>54.050</td>\n",
       "      <td>0.654</td>\n",
       "      <td>-0.046</td>\n",
       "      <td>0.766</td>\n",
       "      <td>ZWE</td>\n",
       "      <td>Africa</td>\n",
       "      <td>Sub-Saharan Africa</td>\n",
       "    </tr>\n",
       "    <tr>\n",
       "      <th>134</th>\n",
       "      <td>Sierra Leone</td>\n",
       "      <td>3.138</td>\n",
       "      <td>135</td>\n",
       "      <td>7.394</td>\n",
       "      <td>0.555</td>\n",
       "      <td>54.900</td>\n",
       "      <td>0.660</td>\n",
       "      <td>0.105</td>\n",
       "      <td>0.858</td>\n",
       "      <td>SLE</td>\n",
       "      <td>Africa</td>\n",
       "      <td>Sub-Saharan Africa</td>\n",
       "    </tr>\n",
       "    <tr>\n",
       "      <th>135</th>\n",
       "      <td>Lebanon</td>\n",
       "      <td>2.392</td>\n",
       "      <td>136</td>\n",
       "      <td>9.478</td>\n",
       "      <td>0.530</td>\n",
       "      <td>66.149</td>\n",
       "      <td>0.474</td>\n",
       "      <td>-0.141</td>\n",
       "      <td>0.891</td>\n",
       "      <td>LBN</td>\n",
       "      <td>Asia</td>\n",
       "      <td>Western Asia</td>\n",
       "    </tr>\n",
       "    <tr>\n",
       "      <th>136</th>\n",
       "      <td>Afghanistan</td>\n",
       "      <td>1.859</td>\n",
       "      <td>137</td>\n",
       "      <td>7.324</td>\n",
       "      <td>0.341</td>\n",
       "      <td>54.712</td>\n",
       "      <td>0.382</td>\n",
       "      <td>-0.081</td>\n",
       "      <td>0.847</td>\n",
       "      <td>AFG</td>\n",
       "      <td>Asia</td>\n",
       "      <td>Southern Asia</td>\n",
       "    </tr>\n",
       "  </tbody>\n",
       "</table>\n",
       "<p>137 rows × 12 columns</p>\n",
       "</div>"
      ],
      "text/plain": [
       "         country_name  ladder_score  rank  log_gdp_per_capita  social_support  \\\n",
       "0             Finland         7.804     1              10.792           0.969   \n",
       "1             Denmark         7.586     2              10.962           0.954   \n",
       "2             Iceland         7.530     3              10.896           0.983   \n",
       "3              Israel         7.473     4              10.639           0.943   \n",
       "4         Netherlands         7.403     5              10.942           0.930   \n",
       "..                ...           ...   ...                 ...             ...   \n",
       "132  Congo (Kinshasa)         3.207   133               7.007           0.652   \n",
       "133          Zimbabwe         3.204   134               7.641           0.690   \n",
       "134      Sierra Leone         3.138   135               7.394           0.555   \n",
       "135           Lebanon         2.392   136               9.478           0.530   \n",
       "136       Afghanistan         1.859   137               7.324           0.341   \n",
       "\n",
       "     healthy_life_expectancy  Freedom to make life choices  generosity  \\\n",
       "0                     71.150                         0.961      -0.019   \n",
       "1                     71.250                         0.934       0.134   \n",
       "2                     72.050                         0.936       0.211   \n",
       "3                     72.697                         0.809      -0.023   \n",
       "4                     71.550                         0.887       0.213   \n",
       "..                       ...                           ...         ...   \n",
       "132                   55.375                         0.664       0.086   \n",
       "133                   54.050                         0.654      -0.046   \n",
       "134                   54.900                         0.660       0.105   \n",
       "135                   66.149                         0.474      -0.141   \n",
       "136                   54.712                         0.382      -0.081   \n",
       "\n",
       "     perceptions_of_corruptance iso_alpha  region          sub_region  \n",
       "0                         0.182       FIN  Europe     Northern Europe  \n",
       "1                         0.196       DNK  Europe     Northern Europe  \n",
       "2                         0.668       ISL  Europe     Northern Europe  \n",
       "3                         0.708       ISR    Asia        Western Asia  \n",
       "4                         0.379       NLD  Europe      Western Europe  \n",
       "..                          ...       ...     ...                 ...  \n",
       "132                       0.834       NaN     NaN                 NaN  \n",
       "133                       0.766       ZWE  Africa  Sub-Saharan Africa  \n",
       "134                       0.858       SLE  Africa  Sub-Saharan Africa  \n",
       "135                       0.891       LBN    Asia        Western Asia  \n",
       "136                       0.847       AFG    Asia       Southern Asia  \n",
       "\n",
       "[137 rows x 12 columns]"
      ]
     },
     "execution_count": 77,
     "metadata": {},
     "output_type": "execute_result"
    }
   ],
   "source": [
    "# Two dataframes are merged because one of their columns is the same - country_name\n",
    "merged_df = df.merge(country_map, on=\"country_name\", how=\"left\")\n",
    "merged_df"
   ]
  },
  {
   "cell_type": "markdown",
   "metadata": {},
   "source": [
    "### Finding Columns with NULL Values"
   ]
  },
  {
   "cell_type": "code",
   "execution_count": 78,
   "metadata": {},
   "outputs": [
    {
     "data": {
      "text/html": [
       "<div>\n",
       "<style scoped>\n",
       "    .dataframe tbody tr th:only-of-type {\n",
       "        vertical-align: middle;\n",
       "    }\n",
       "\n",
       "    .dataframe tbody tr th {\n",
       "        vertical-align: top;\n",
       "    }\n",
       "\n",
       "    .dataframe thead th {\n",
       "        text-align: right;\n",
       "    }\n",
       "</style>\n",
       "<table border=\"1\" class=\"dataframe\">\n",
       "  <thead>\n",
       "    <tr style=\"text-align: right;\">\n",
       "      <th></th>\n",
       "      <th>country_name</th>\n",
       "      <th>ladder_score</th>\n",
       "      <th>rank</th>\n",
       "      <th>log_gdp_per_capita</th>\n",
       "      <th>social_support</th>\n",
       "      <th>healthy_life_expectancy</th>\n",
       "      <th>Freedom to make life choices</th>\n",
       "      <th>generosity</th>\n",
       "      <th>perceptions_of_corruptance</th>\n",
       "      <th>iso_alpha</th>\n",
       "      <th>region</th>\n",
       "      <th>sub_region</th>\n",
       "    </tr>\n",
       "  </thead>\n",
       "  <tbody>\n",
       "    <tr>\n",
       "      <th>17</th>\n",
       "      <td>Czechia</td>\n",
       "      <td>6.845</td>\n",
       "      <td>18</td>\n",
       "      <td>10.611</td>\n",
       "      <td>0.953</td>\n",
       "      <td>69.050</td>\n",
       "      <td>0.903</td>\n",
       "      <td>0.040</td>\n",
       "      <td>0.859</td>\n",
       "      <td>NaN</td>\n",
       "      <td>NaN</td>\n",
       "      <td>NaN</td>\n",
       "    </tr>\n",
       "    <tr>\n",
       "      <th>26</th>\n",
       "      <td>Taiwan Province of China</td>\n",
       "      <td>6.535</td>\n",
       "      <td>27</td>\n",
       "      <td>10.797</td>\n",
       "      <td>0.884</td>\n",
       "      <td>69.600</td>\n",
       "      <td>0.804</td>\n",
       "      <td>-0.129</td>\n",
       "      <td>0.681</td>\n",
       "      <td>NaN</td>\n",
       "      <td>NaN</td>\n",
       "      <td>NaN</td>\n",
       "    </tr>\n",
       "    <tr>\n",
       "      <th>33</th>\n",
       "      <td>Kosovo</td>\n",
       "      <td>6.368</td>\n",
       "      <td>34</td>\n",
       "      <td>9.359</td>\n",
       "      <td>0.844</td>\n",
       "      <td>65.195</td>\n",
       "      <td>0.861</td>\n",
       "      <td>0.259</td>\n",
       "      <td>0.866</td>\n",
       "      <td>NaN</td>\n",
       "      <td>NaN</td>\n",
       "      <td>NaN</td>\n",
       "    </tr>\n",
       "    <tr>\n",
       "      <th>70</th>\n",
       "      <td>Bosnia and Herzegovina</td>\n",
       "      <td>5.633</td>\n",
       "      <td>71</td>\n",
       "      <td>9.616</td>\n",
       "      <td>0.880</td>\n",
       "      <td>67.275</td>\n",
       "      <td>0.746</td>\n",
       "      <td>0.206</td>\n",
       "      <td>0.918</td>\n",
       "      <td>NaN</td>\n",
       "      <td>NaN</td>\n",
       "      <td>NaN</td>\n",
       "    </tr>\n",
       "    <tr>\n",
       "      <th>81</th>\n",
       "      <td>Hong Kong S.A.R. of China</td>\n",
       "      <td>5.308</td>\n",
       "      <td>82</td>\n",
       "      <td>10.966</td>\n",
       "      <td>0.817</td>\n",
       "      <td>77.280</td>\n",
       "      <td>0.687</td>\n",
       "      <td>-0.026</td>\n",
       "      <td>0.385</td>\n",
       "      <td>NaN</td>\n",
       "      <td>NaN</td>\n",
       "      <td>NaN</td>\n",
       "    </tr>\n",
       "    <tr>\n",
       "      <th>85</th>\n",
       "      <td>Congo (Brazzaville)</td>\n",
       "      <td>5.267</td>\n",
       "      <td>86</td>\n",
       "      <td>8.095</td>\n",
       "      <td>0.605</td>\n",
       "      <td>56.850</td>\n",
       "      <td>0.730</td>\n",
       "      <td>-0.004</td>\n",
       "      <td>0.739</td>\n",
       "      <td>NaN</td>\n",
       "      <td>NaN</td>\n",
       "      <td>NaN</td>\n",
       "    </tr>\n",
       "    <tr>\n",
       "      <th>86</th>\n",
       "      <td>North Macedonia</td>\n",
       "      <td>5.254</td>\n",
       "      <td>87</td>\n",
       "      <td>9.703</td>\n",
       "      <td>0.805</td>\n",
       "      <td>66.500</td>\n",
       "      <td>0.769</td>\n",
       "      <td>0.131</td>\n",
       "      <td>0.902</td>\n",
       "      <td>NaN</td>\n",
       "      <td>NaN</td>\n",
       "      <td>NaN</td>\n",
       "    </tr>\n",
       "    <tr>\n",
       "      <th>92</th>\n",
       "      <td>Ivory Coast</td>\n",
       "      <td>5.053</td>\n",
       "      <td>93</td>\n",
       "      <td>8.576</td>\n",
       "      <td>0.572</td>\n",
       "      <td>55.953</td>\n",
       "      <td>0.733</td>\n",
       "      <td>0.003</td>\n",
       "      <td>0.746</td>\n",
       "      <td>NaN</td>\n",
       "      <td>NaN</td>\n",
       "      <td>NaN</td>\n",
       "    </tr>\n",
       "    <tr>\n",
       "      <th>98</th>\n",
       "      <td>State of Palestine</td>\n",
       "      <td>4.908</td>\n",
       "      <td>99</td>\n",
       "      <td>8.716</td>\n",
       "      <td>0.859</td>\n",
       "      <td>NaN</td>\n",
       "      <td>0.694</td>\n",
       "      <td>-0.132</td>\n",
       "      <td>0.836</td>\n",
       "      <td>NaN</td>\n",
       "      <td>NaN</td>\n",
       "      <td>NaN</td>\n",
       "    </tr>\n",
       "    <tr>\n",
       "      <th>105</th>\n",
       "      <td>Turkiye</td>\n",
       "      <td>4.614</td>\n",
       "      <td>106</td>\n",
       "      <td>10.307</td>\n",
       "      <td>0.796</td>\n",
       "      <td>68.663</td>\n",
       "      <td>0.475</td>\n",
       "      <td>-0.077</td>\n",
       "      <td>0.795</td>\n",
       "      <td>NaN</td>\n",
       "      <td>NaN</td>\n",
       "      <td>NaN</td>\n",
       "    </tr>\n",
       "    <tr>\n",
       "      <th>132</th>\n",
       "      <td>Congo (Kinshasa)</td>\n",
       "      <td>3.207</td>\n",
       "      <td>133</td>\n",
       "      <td>7.007</td>\n",
       "      <td>0.652</td>\n",
       "      <td>55.375</td>\n",
       "      <td>0.664</td>\n",
       "      <td>0.086</td>\n",
       "      <td>0.834</td>\n",
       "      <td>NaN</td>\n",
       "      <td>NaN</td>\n",
       "      <td>NaN</td>\n",
       "    </tr>\n",
       "  </tbody>\n",
       "</table>\n",
       "</div>"
      ],
      "text/plain": [
       "                  country_name  ladder_score  rank  log_gdp_per_capita  \\\n",
       "17                     Czechia         6.845    18              10.611   \n",
       "26    Taiwan Province of China         6.535    27              10.797   \n",
       "33                      Kosovo         6.368    34               9.359   \n",
       "70      Bosnia and Herzegovina         5.633    71               9.616   \n",
       "81   Hong Kong S.A.R. of China         5.308    82              10.966   \n",
       "85         Congo (Brazzaville)         5.267    86               8.095   \n",
       "86             North Macedonia         5.254    87               9.703   \n",
       "92                 Ivory Coast         5.053    93               8.576   \n",
       "98          State of Palestine         4.908    99               8.716   \n",
       "105                    Turkiye         4.614   106              10.307   \n",
       "132           Congo (Kinshasa)         3.207   133               7.007   \n",
       "\n",
       "     social_support  healthy_life_expectancy  Freedom to make life choices  \\\n",
       "17            0.953                   69.050                         0.903   \n",
       "26            0.884                   69.600                         0.804   \n",
       "33            0.844                   65.195                         0.861   \n",
       "70            0.880                   67.275                         0.746   \n",
       "81            0.817                   77.280                         0.687   \n",
       "85            0.605                   56.850                         0.730   \n",
       "86            0.805                   66.500                         0.769   \n",
       "92            0.572                   55.953                         0.733   \n",
       "98            0.859                      NaN                         0.694   \n",
       "105           0.796                   68.663                         0.475   \n",
       "132           0.652                   55.375                         0.664   \n",
       "\n",
       "     generosity  perceptions_of_corruptance iso_alpha region sub_region  \n",
       "17        0.040                       0.859       NaN    NaN        NaN  \n",
       "26       -0.129                       0.681       NaN    NaN        NaN  \n",
       "33        0.259                       0.866       NaN    NaN        NaN  \n",
       "70        0.206                       0.918       NaN    NaN        NaN  \n",
       "81       -0.026                       0.385       NaN    NaN        NaN  \n",
       "85       -0.004                       0.739       NaN    NaN        NaN  \n",
       "86        0.131                       0.902       NaN    NaN        NaN  \n",
       "92        0.003                       0.746       NaN    NaN        NaN  \n",
       "98       -0.132                       0.836       NaN    NaN        NaN  \n",
       "105      -0.077                       0.795       NaN    NaN        NaN  \n",
       "132       0.086                       0.834       NaN    NaN        NaN  "
      ]
     },
     "execution_count": 78,
     "metadata": {},
     "output_type": "execute_result"
    }
   ],
   "source": [
    "# During the merge, some countries didn't merge correctly due to name differences between two dataframes.\n",
    "nan_region = merged_df[merged_df[\"region\"].isnull()]\n",
    "nan_region"
   ]
  },
  {
   "cell_type": "code",
   "execution_count": 79,
   "metadata": {},
   "outputs": [],
   "source": [
    "# Changing the name of the countries so two dataframes would match\n",
    "country_map[\"country_name\"] = country_map[\"country_name\"].str.replace(\"Czech Republic\", \"Czechia\", regex=True).replace(\"Taiwan\", \"Taiwan Province of China\", regex=True).replace(\"Hong Kong\", \"Hong Kong S.A.R. of China\", regex=True).replace(\"Macedonia\", \"North Macedonia\", regex=True).replace(\"Côte D'Ivoire\", \"Ivory Coast\", regex=True).replace(\"Palestine, State of\", \"State of Palestine\", regex=True).replace(\"Turkey\", \"Turkiye\", regex=True)"
   ]
  },
  {
   "cell_type": "code",
   "execution_count": 80,
   "metadata": {},
   "outputs": [
    {
     "data": {
      "text/plain": [
       "country_name         Turkiye\n",
       "iso_alpha                TUR\n",
       "region                  Asia\n",
       "sub_region      Western Asia\n",
       "Name: 227, dtype: object"
      ]
     },
     "execution_count": 80,
     "metadata": {},
     "output_type": "execute_result"
    }
   ],
   "source": [
    "# Checking if changes are correct\n",
    "country_map.loc[227]"
   ]
  },
  {
   "cell_type": "code",
   "execution_count": 81,
   "metadata": {},
   "outputs": [
    {
     "data": {
      "text/html": [
       "<div>\n",
       "<style scoped>\n",
       "    .dataframe tbody tr th:only-of-type {\n",
       "        vertical-align: middle;\n",
       "    }\n",
       "\n",
       "    .dataframe tbody tr th {\n",
       "        vertical-align: top;\n",
       "    }\n",
       "\n",
       "    .dataframe thead th {\n",
       "        text-align: right;\n",
       "    }\n",
       "</style>\n",
       "<table border=\"1\" class=\"dataframe\">\n",
       "  <thead>\n",
       "    <tr style=\"text-align: right;\">\n",
       "      <th></th>\n",
       "      <th>country_name</th>\n",
       "      <th>ladder_score</th>\n",
       "      <th>rank</th>\n",
       "      <th>log_gdp_per_capita</th>\n",
       "      <th>social_support</th>\n",
       "      <th>healthy_life_expectancy</th>\n",
       "      <th>Freedom to make life choices</th>\n",
       "      <th>generosity</th>\n",
       "      <th>perceptions_of_corruptance</th>\n",
       "      <th>iso_alpha</th>\n",
       "      <th>region</th>\n",
       "      <th>sub_region</th>\n",
       "    </tr>\n",
       "  </thead>\n",
       "  <tbody>\n",
       "    <tr>\n",
       "      <th>0</th>\n",
       "      <td>Finland</td>\n",
       "      <td>7.804</td>\n",
       "      <td>1</td>\n",
       "      <td>10.792</td>\n",
       "      <td>0.969</td>\n",
       "      <td>71.150</td>\n",
       "      <td>0.961</td>\n",
       "      <td>-0.019</td>\n",
       "      <td>0.182</td>\n",
       "      <td>FIN</td>\n",
       "      <td>Europe</td>\n",
       "      <td>Northern Europe</td>\n",
       "    </tr>\n",
       "    <tr>\n",
       "      <th>1</th>\n",
       "      <td>Denmark</td>\n",
       "      <td>7.586</td>\n",
       "      <td>2</td>\n",
       "      <td>10.962</td>\n",
       "      <td>0.954</td>\n",
       "      <td>71.250</td>\n",
       "      <td>0.934</td>\n",
       "      <td>0.134</td>\n",
       "      <td>0.196</td>\n",
       "      <td>DNK</td>\n",
       "      <td>Europe</td>\n",
       "      <td>Northern Europe</td>\n",
       "    </tr>\n",
       "    <tr>\n",
       "      <th>2</th>\n",
       "      <td>Iceland</td>\n",
       "      <td>7.530</td>\n",
       "      <td>3</td>\n",
       "      <td>10.896</td>\n",
       "      <td>0.983</td>\n",
       "      <td>72.050</td>\n",
       "      <td>0.936</td>\n",
       "      <td>0.211</td>\n",
       "      <td>0.668</td>\n",
       "      <td>ISL</td>\n",
       "      <td>Europe</td>\n",
       "      <td>Northern Europe</td>\n",
       "    </tr>\n",
       "    <tr>\n",
       "      <th>3</th>\n",
       "      <td>Israel</td>\n",
       "      <td>7.473</td>\n",
       "      <td>4</td>\n",
       "      <td>10.639</td>\n",
       "      <td>0.943</td>\n",
       "      <td>72.697</td>\n",
       "      <td>0.809</td>\n",
       "      <td>-0.023</td>\n",
       "      <td>0.708</td>\n",
       "      <td>ISR</td>\n",
       "      <td>Asia</td>\n",
       "      <td>Western Asia</td>\n",
       "    </tr>\n",
       "    <tr>\n",
       "      <th>4</th>\n",
       "      <td>Netherlands</td>\n",
       "      <td>7.403</td>\n",
       "      <td>5</td>\n",
       "      <td>10.942</td>\n",
       "      <td>0.930</td>\n",
       "      <td>71.550</td>\n",
       "      <td>0.887</td>\n",
       "      <td>0.213</td>\n",
       "      <td>0.379</td>\n",
       "      <td>NLD</td>\n",
       "      <td>Europe</td>\n",
       "      <td>Western Europe</td>\n",
       "    </tr>\n",
       "    <tr>\n",
       "      <th>...</th>\n",
       "      <td>...</td>\n",
       "      <td>...</td>\n",
       "      <td>...</td>\n",
       "      <td>...</td>\n",
       "      <td>...</td>\n",
       "      <td>...</td>\n",
       "      <td>...</td>\n",
       "      <td>...</td>\n",
       "      <td>...</td>\n",
       "      <td>...</td>\n",
       "      <td>...</td>\n",
       "      <td>...</td>\n",
       "    </tr>\n",
       "    <tr>\n",
       "      <th>132</th>\n",
       "      <td>Congo (Kinshasa)</td>\n",
       "      <td>3.207</td>\n",
       "      <td>133</td>\n",
       "      <td>7.007</td>\n",
       "      <td>0.652</td>\n",
       "      <td>55.375</td>\n",
       "      <td>0.664</td>\n",
       "      <td>0.086</td>\n",
       "      <td>0.834</td>\n",
       "      <td>NaN</td>\n",
       "      <td>NaN</td>\n",
       "      <td>NaN</td>\n",
       "    </tr>\n",
       "    <tr>\n",
       "      <th>133</th>\n",
       "      <td>Zimbabwe</td>\n",
       "      <td>3.204</td>\n",
       "      <td>134</td>\n",
       "      <td>7.641</td>\n",
       "      <td>0.690</td>\n",
       "      <td>54.050</td>\n",
       "      <td>0.654</td>\n",
       "      <td>-0.046</td>\n",
       "      <td>0.766</td>\n",
       "      <td>ZWE</td>\n",
       "      <td>Africa</td>\n",
       "      <td>Sub-Saharan Africa</td>\n",
       "    </tr>\n",
       "    <tr>\n",
       "      <th>134</th>\n",
       "      <td>Sierra Leone</td>\n",
       "      <td>3.138</td>\n",
       "      <td>135</td>\n",
       "      <td>7.394</td>\n",
       "      <td>0.555</td>\n",
       "      <td>54.900</td>\n",
       "      <td>0.660</td>\n",
       "      <td>0.105</td>\n",
       "      <td>0.858</td>\n",
       "      <td>SLE</td>\n",
       "      <td>Africa</td>\n",
       "      <td>Sub-Saharan Africa</td>\n",
       "    </tr>\n",
       "    <tr>\n",
       "      <th>135</th>\n",
       "      <td>Lebanon</td>\n",
       "      <td>2.392</td>\n",
       "      <td>136</td>\n",
       "      <td>9.478</td>\n",
       "      <td>0.530</td>\n",
       "      <td>66.149</td>\n",
       "      <td>0.474</td>\n",
       "      <td>-0.141</td>\n",
       "      <td>0.891</td>\n",
       "      <td>LBN</td>\n",
       "      <td>Asia</td>\n",
       "      <td>Western Asia</td>\n",
       "    </tr>\n",
       "    <tr>\n",
       "      <th>136</th>\n",
       "      <td>Afghanistan</td>\n",
       "      <td>1.859</td>\n",
       "      <td>137</td>\n",
       "      <td>7.324</td>\n",
       "      <td>0.341</td>\n",
       "      <td>54.712</td>\n",
       "      <td>0.382</td>\n",
       "      <td>-0.081</td>\n",
       "      <td>0.847</td>\n",
       "      <td>AFG</td>\n",
       "      <td>Asia</td>\n",
       "      <td>Southern Asia</td>\n",
       "    </tr>\n",
       "  </tbody>\n",
       "</table>\n",
       "<p>137 rows × 12 columns</p>\n",
       "</div>"
      ],
      "text/plain": [
       "         country_name  ladder_score  rank  log_gdp_per_capita  social_support  \\\n",
       "0             Finland         7.804     1              10.792           0.969   \n",
       "1             Denmark         7.586     2              10.962           0.954   \n",
       "2             Iceland         7.530     3              10.896           0.983   \n",
       "3              Israel         7.473     4              10.639           0.943   \n",
       "4         Netherlands         7.403     5              10.942           0.930   \n",
       "..                ...           ...   ...                 ...             ...   \n",
       "132  Congo (Kinshasa)         3.207   133               7.007           0.652   \n",
       "133          Zimbabwe         3.204   134               7.641           0.690   \n",
       "134      Sierra Leone         3.138   135               7.394           0.555   \n",
       "135           Lebanon         2.392   136               9.478           0.530   \n",
       "136       Afghanistan         1.859   137               7.324           0.341   \n",
       "\n",
       "     healthy_life_expectancy  Freedom to make life choices  generosity  \\\n",
       "0                     71.150                         0.961      -0.019   \n",
       "1                     71.250                         0.934       0.134   \n",
       "2                     72.050                         0.936       0.211   \n",
       "3                     72.697                         0.809      -0.023   \n",
       "4                     71.550                         0.887       0.213   \n",
       "..                       ...                           ...         ...   \n",
       "132                   55.375                         0.664       0.086   \n",
       "133                   54.050                         0.654      -0.046   \n",
       "134                   54.900                         0.660       0.105   \n",
       "135                   66.149                         0.474      -0.141   \n",
       "136                   54.712                         0.382      -0.081   \n",
       "\n",
       "     perceptions_of_corruptance iso_alpha  region          sub_region  \n",
       "0                         0.182       FIN  Europe     Northern Europe  \n",
       "1                         0.196       DNK  Europe     Northern Europe  \n",
       "2                         0.668       ISL  Europe     Northern Europe  \n",
       "3                         0.708       ISR    Asia        Western Asia  \n",
       "4                         0.379       NLD  Europe      Western Europe  \n",
       "..                          ...       ...     ...                 ...  \n",
       "132                       0.834       NaN     NaN                 NaN  \n",
       "133                       0.766       ZWE  Africa  Sub-Saharan Africa  \n",
       "134                       0.858       SLE  Africa  Sub-Saharan Africa  \n",
       "135                       0.891       LBN    Asia        Western Asia  \n",
       "136                       0.847       AFG    Asia       Southern Asia  \n",
       "\n",
       "[137 rows x 12 columns]"
      ]
     },
     "execution_count": 81,
     "metadata": {},
     "output_type": "execute_result"
    }
   ],
   "source": [
    "# Merging the dataframes again\n",
    "merged_df = df.merge(country_map, on=\"country_name\", how=\"left\")\n",
    "merged_df"
   ]
  },
  {
   "cell_type": "code",
   "execution_count": 82,
   "metadata": {},
   "outputs": [
    {
     "data": {
      "text/html": [
       "<div>\n",
       "<style scoped>\n",
       "    .dataframe tbody tr th:only-of-type {\n",
       "        vertical-align: middle;\n",
       "    }\n",
       "\n",
       "    .dataframe tbody tr th {\n",
       "        vertical-align: top;\n",
       "    }\n",
       "\n",
       "    .dataframe thead th {\n",
       "        text-align: right;\n",
       "    }\n",
       "</style>\n",
       "<table border=\"1\" class=\"dataframe\">\n",
       "  <thead>\n",
       "    <tr style=\"text-align: right;\">\n",
       "      <th></th>\n",
       "      <th>country_name</th>\n",
       "      <th>ladder_score</th>\n",
       "      <th>rank</th>\n",
       "      <th>log_gdp_per_capita</th>\n",
       "      <th>social_support</th>\n",
       "      <th>healthy_life_expectancy</th>\n",
       "      <th>Freedom to make life choices</th>\n",
       "      <th>generosity</th>\n",
       "      <th>perceptions_of_corruptance</th>\n",
       "      <th>iso_alpha</th>\n",
       "      <th>region</th>\n",
       "      <th>sub_region</th>\n",
       "    </tr>\n",
       "  </thead>\n",
       "  <tbody>\n",
       "    <tr>\n",
       "      <th>33</th>\n",
       "      <td>Kosovo</td>\n",
       "      <td>6.368</td>\n",
       "      <td>34</td>\n",
       "      <td>9.359</td>\n",
       "      <td>0.844</td>\n",
       "      <td>65.195</td>\n",
       "      <td>0.861</td>\n",
       "      <td>0.259</td>\n",
       "      <td>0.866</td>\n",
       "      <td>NaN</td>\n",
       "      <td>NaN</td>\n",
       "      <td>NaN</td>\n",
       "    </tr>\n",
       "    <tr>\n",
       "      <th>70</th>\n",
       "      <td>Bosnia and Herzegovina</td>\n",
       "      <td>5.633</td>\n",
       "      <td>71</td>\n",
       "      <td>9.616</td>\n",
       "      <td>0.880</td>\n",
       "      <td>67.275</td>\n",
       "      <td>0.746</td>\n",
       "      <td>0.206</td>\n",
       "      <td>0.918</td>\n",
       "      <td>NaN</td>\n",
       "      <td>NaN</td>\n",
       "      <td>NaN</td>\n",
       "    </tr>\n",
       "    <tr>\n",
       "      <th>85</th>\n",
       "      <td>Congo (Brazzaville)</td>\n",
       "      <td>5.267</td>\n",
       "      <td>86</td>\n",
       "      <td>8.095</td>\n",
       "      <td>0.605</td>\n",
       "      <td>56.850</td>\n",
       "      <td>0.730</td>\n",
       "      <td>-0.004</td>\n",
       "      <td>0.739</td>\n",
       "      <td>NaN</td>\n",
       "      <td>NaN</td>\n",
       "      <td>NaN</td>\n",
       "    </tr>\n",
       "    <tr>\n",
       "      <th>132</th>\n",
       "      <td>Congo (Kinshasa)</td>\n",
       "      <td>3.207</td>\n",
       "      <td>133</td>\n",
       "      <td>7.007</td>\n",
       "      <td>0.652</td>\n",
       "      <td>55.375</td>\n",
       "      <td>0.664</td>\n",
       "      <td>0.086</td>\n",
       "      <td>0.834</td>\n",
       "      <td>NaN</td>\n",
       "      <td>NaN</td>\n",
       "      <td>NaN</td>\n",
       "    </tr>\n",
       "  </tbody>\n",
       "</table>\n",
       "</div>"
      ],
      "text/plain": [
       "               country_name  ladder_score  rank  log_gdp_per_capita  \\\n",
       "33                   Kosovo         6.368    34               9.359   \n",
       "70   Bosnia and Herzegovina         5.633    71               9.616   \n",
       "85      Congo (Brazzaville)         5.267    86               8.095   \n",
       "132        Congo (Kinshasa)         3.207   133               7.007   \n",
       "\n",
       "     social_support  healthy_life_expectancy  Freedom to make life choices  \\\n",
       "33            0.844                   65.195                         0.861   \n",
       "70            0.880                   67.275                         0.746   \n",
       "85            0.605                   56.850                         0.730   \n",
       "132           0.652                   55.375                         0.664   \n",
       "\n",
       "     generosity  perceptions_of_corruptance iso_alpha region sub_region  \n",
       "33        0.259                       0.866       NaN    NaN        NaN  \n",
       "70        0.206                       0.918       NaN    NaN        NaN  \n",
       "85       -0.004                       0.739       NaN    NaN        NaN  \n",
       "132       0.086                       0.834       NaN    NaN        NaN  "
      ]
     },
     "execution_count": 82,
     "metadata": {},
     "output_type": "execute_result"
    }
   ],
   "source": [
    "nan_region = merged_df[merged_df[\"region\"].isnull()]\n",
    "nan_region"
   ]
  },
  {
   "cell_type": "code",
   "execution_count": 83,
   "metadata": {},
   "outputs": [],
   "source": [
    "# Filling null values by hand because the problem isn't because of name difference\n",
    "merged_df.loc[33, [\"region\", \"sub_region\", \"iso_alpha\"]] = [\"Europe\", \"Southern Europe\", \"XXK\"]\n",
    "merged_df.loc[70, [\"region\", \"sub_region\", \"iso_alpha\"]] = [\"Europe\", \"Southern Europe\", \"BIH\"]\n",
    "merged_df.loc[85, [\"region\", \"sub_region\", \"iso_alpha\"]] = [\"Africa\", \"Sub-Saharan Africa\", \"COG\"]\n",
    "merged_df.loc[132, [\"region\", \"sub_region\", \"iso_alpha\"]] = [\"Africa\", \"Sub-Saharan Africa\", \"COD\"]"
   ]
  },
  {
   "cell_type": "code",
   "execution_count": 84,
   "metadata": {},
   "outputs": [],
   "source": [
    "# This function checks every country's ladder score and whether the score is higher or lower than the mean of ladder score\n",
    "ladder_mean = merged_df[\"ladder_score\"].mean()\n",
    "def happiness_index(score):\n",
    "    if score < ladder_mean:\n",
    "        return \"Unhappy\"\n",
    "    else:\n",
    "        return \"Happy\"\n",
    "    \n",
    "merged_df[\"above_or_below\"] = merged_df[\"ladder_score\"].map(happiness_index)"
   ]
  },
  {
   "cell_type": "markdown",
   "metadata": {},
   "source": [
    "---"
   ]
  },
  {
   "cell_type": "markdown",
   "metadata": {},
   "source": [
    "## Plotting"
   ]
  },
  {
   "cell_type": "markdown",
   "metadata": {},
   "source": [
    "### Happy - Unhappy"
   ]
  },
  {
   "cell_type": "code",
   "execution_count": 85,
   "metadata": {},
   "outputs": [
    {
     "data": {
      "text/plain": [
       "Text(Unhappy, 63, '63')"
      ]
     },
     "execution_count": 85,
     "metadata": {},
     "output_type": "execute_result"
    },
    {
     "data": {
      "image/png": "[encoded data removed]",
      "text/plain": [
       "<Figure size 640x480 with 1 Axes>"
      ]
     },
     "metadata": {},
     "output_type": "display_data"
    }
   ],
   "source": [
    "# Counting how many happy/unhappy countries there are\n",
    "happy = merged_df[\"above_or_below\"].value_counts()[\"Happy\"]\n",
    "unhappy = merged_df[\"above_or_below\"].value_counts()[\"Unhappy\"]\n",
    "\n",
    "# Creating a barplot\n",
    "plt.bar([\"Happy\", \"Unhappy\"], [happy, unhappy], color=[\"green\", \"red\"])\n",
    "plt.text(\"Happy\", happy, happy, ha=\"center\")\n",
    "plt.text(\"Unhappy\", unhappy, unhappy, ha=\"center\")"
   ]
  },
  {
   "cell_type": "markdown",
   "metadata": {},
   "source": [
    "### Top 10 - Bottom 10 Plot"
   ]
  },
  {
   "cell_type": "code",
   "execution_count": 86,
   "metadata": {},
   "outputs": [
    {
     "data": {
      "text/plain": [
       "<matplotlib.lines.Line2D at 0x1211a0080>"
      ]
     },
     "execution_count": 86,
     "metadata": {},
     "output_type": "execute_result"
    },
    {
     "data": {
      "image/png": "[encoded data removed]",
      "text/plain": [
       "<Figure size 640x480 with 1 Axes>"
      ]
     },
     "metadata": {},
     "output_type": "display_data"
    }
   ],
   "source": [
    "top10 = merged_df.head(10).sort_values(by=\"ladder_score\")\n",
    "last10 = merged_df.tail(10).sort_values(by=\"ladder_score\")\n",
    "best_worst = pd.concat([top10, last10], axis=0)\n",
    "best_worst = best_worst.sort_values(by=\"ladder_score\")\n",
    "\n",
    "plt.barh(last10[\"country_name\"], last10[\"ladder_score\"], color=\"red\")\n",
    "plt.barh(top10[\"country_name\"], top10[\"ladder_score\"], color=\"green\")\n",
    "plt.xlabel(\"Happiness score of the countries\")\n",
    "plt.axvline(merged_df[\"ladder_score\"].mean(), color=\"gold\") # shows the mean of ladder_score"
   ]
  },
  {
   "cell_type": "markdown",
   "metadata": {},
   "source": [
    "### Happiness by Region"
   ]
  },
  {
   "cell_type": "code",
   "execution_count": 87,
   "metadata": {},
   "outputs": [
    {
     "data": {
      "text/html": [
       "<div>\n",
       "<style scoped>\n",
       "    .dataframe tbody tr th:only-of-type {\n",
       "        vertical-align: middle;\n",
       "    }\n",
       "\n",
       "    .dataframe tbody tr th {\n",
       "        vertical-align: top;\n",
       "    }\n",
       "\n",
       "    .dataframe thead th {\n",
       "        text-align: right;\n",
       "    }\n",
       "</style>\n",
       "<table border=\"1\" class=\"dataframe\">\n",
       "  <thead>\n",
       "    <tr style=\"text-align: right;\">\n",
       "      <th></th>\n",
       "      <th>region</th>\n",
       "      <th>ladder_score</th>\n",
       "    </tr>\n",
       "  </thead>\n",
       "  <tbody>\n",
       "    <tr>\n",
       "      <th>0</th>\n",
       "      <td>Oceania</td>\n",
       "      <td>7.109000</td>\n",
       "    </tr>\n",
       "    <tr>\n",
       "      <th>1</th>\n",
       "      <td>Europe</td>\n",
       "      <td>6.476462</td>\n",
       "    </tr>\n",
       "    <tr>\n",
       "      <th>2</th>\n",
       "      <td>Asia</td>\n",
       "      <td>5.300553</td>\n",
       "    </tr>\n",
       "    <tr>\n",
       "      <th>3</th>\n",
       "      <td>Americas</td>\n",
       "      <td>6.057619</td>\n",
       "    </tr>\n",
       "    <tr>\n",
       "      <th>4</th>\n",
       "      <td>Africa</td>\n",
       "      <td>4.419486</td>\n",
       "    </tr>\n",
       "  </tbody>\n",
       "</table>\n",
       "</div>"
      ],
      "text/plain": [
       "     region  ladder_score\n",
       "0   Oceania      7.109000\n",
       "1    Europe      6.476462\n",
       "2      Asia      5.300553\n",
       "3  Americas      6.057619\n",
       "4    Africa      4.419486"
      ]
     },
     "execution_count": 87,
     "metadata": {},
     "output_type": "execute_result"
    }
   ],
   "source": [
    "# Grouping main regions by the ladder score\n",
    "happiness_by_region = merged_df.groupby(\"region\")[[\"ladder_score\"]].mean().sort_index(ascending=False).reset_index()\n",
    "happiness_by_region"
   ]
  },
  {
   "cell_type": "code",
   "execution_count": 88,
   "metadata": {},
   "outputs": [
    {
     "data": {
      "image/png": "[encoded data removed]",
      "text/plain": [
       "<Figure size 640x480 with 1 Axes>"
      ]
     },
     "metadata": {},
     "output_type": "display_data"
    }
   ],
   "source": [
    "plt.bar(happiness_by_region[\"region\"], happiness_by_region[\"ladder_score\"])\n",
    "plt.title(\"Happiness Score Barplot by Region\")\n",
    "plt.ylabel(\"Happiness score\", fontsize=10)\n",
    "plt.xlabel(\"Regions\", fontsize=10)\n",
    "plt.show()"
   ]
  },
  {
   "cell_type": "markdown",
   "metadata": {},
   "source": [
    "### Happiness Rank on the Maps"
   ]
  },
  {
   "cell_type": "code",
   "execution_count": 89,
   "metadata": {},
   "outputs": [
    {
     "data": {
      "application/vnd.plotly.v1+json": {
       "config": {
        "plotlyServerURL": "https://plot.ly"
       },
       "data": [
        {
         "coloraxis": "coloraxis",
         "geo": "geo",
         "hovertemplate": "<b>%{hovertext}</b><br><br>iso_alpha=%{location}<br>rank=%{z}<extra></extra>",
         "hovertext": [
          "Finland",
          "Denmark",
          "Iceland",
          "Israel",
          "Netherlands",
          "Sweden",
          "Norway",
          "Switzerland",
          "Luxembourg",
          "New Zealand",
          "Austria",
          "Australia",
          "Canada",
          "Ireland",
          "United States",
          "Germany",
          "Belgium",
          "Czechia",
          "United Kingdom",
          "Lithuania",
          "France",
          "Slovenia",
          "Costa Rica",
          "Romania",
          "Singapore",
          "United Arab Emirates",
          "Taiwan Province of China",
          "Uruguay",
          "Slovakia",
          "Saudi Arabia",
          "Estonia",
          "Spain",
          "Italy",
          "Kosovo",
          "Chile",
          "Mexico",
          "Malta",
          "Panama",
          "Poland",
          "Nicaragua",
          "Latvia",
          "Bahrain",
          "Guatemala",
          "Kazakhstan",
          "Serbia",
          "Cyprus",
          "Japan",
          "Croatia",
          "Brazil",
          "El Salvador",
          "Hungary",
          "Argentina",
          "Honduras",
          "Uzbekistan",
          "Malaysia",
          "Portugal",
          "South Korea",
          "Greece",
          "Mauritius",
          "Thailand",
          "Mongolia",
          "Kyrgyzstan",
          "Moldova",
          "China",
          "Vietnam",
          "Paraguay",
          "Montenegro",
          "Jamaica",
          "Bolivia",
          "Russia",
          "Bosnia and Herzegovina",
          "Colombia",
          "Dominican Republic",
          "Ecuador",
          "Peru",
          "Philippines",
          "Bulgaria",
          "Nepal",
          "Armenia",
          "Tajikistan",
          "Algeria",
          "Hong Kong S.A.R. of China",
          "Albania",
          "Indonesia",
          "South Africa",
          "Congo (Brazzaville)",
          "North Macedonia",
          "Venezuela",
          "Laos",
          "Georgia",
          "Guinea",
          "Ukraine",
          "Ivory Coast",
          "Gabon",
          "Nigeria",
          "Cameroon",
          "Mozambique",
          "Iraq",
          "State of Palestine",
          "Morocco",
          "Iran",
          "Senegal",
          "Mauritania",
          "Burkina Faso",
          "Namibia",
          "Turkiye",
          "Ghana",
          "Pakistan",
          "Niger",
          "Tunisia",
          "Kenya",
          "Sri Lanka",
          "Uganda",
          "Chad",
          "Cambodia",
          "Benin",
          "Myanmar",
          "Bangladesh",
          "Gambia",
          "Mali",
          "Egypt",
          "Togo",
          "Jordan",
          "Ethiopia",
          "Liberia",
          "India",
          "Madagascar",
          "Zambia",
          "Tanzania",
          "Comoros",
          "Malawi",
          "Botswana",
          "Congo (Kinshasa)",
          "Zimbabwe",
          "Sierra Leone",
          "Lebanon",
          "Afghanistan"
         ],
         "locations": [
          "FIN",
          "DNK",
          "ISL",
          "ISR",
          "NLD",
          "SWE",
          "NOR",
          "CHE",
          "LUX",
          "NZL",
          "AUT",
          "AUS",
          "CAN",
          "IRL",
          "USA",
          "DEU",
          "BEL",
          "CZE",
          "GBR",
          "LTU",
          "FRA",
          "SVN",
          "CRI",
          "ROU",
          "SGP",
          "ARE",
          "TWN",
          "URY",
          "SVK",
          "SAU",
          "EST",
          "ESP",
          "ITA",
          "XXK",
          "CHL",
          "MEX",
          "MLT",
          "PAN",
          "POL",
          "NIC",
          "LVA",
          "BHR",
          "GTM",
          "KAZ",
          "SRB",
          "CYP",
          "JPN",
          "HRV",
          "BRA",
          "SLV",
          "HUN",
          "ARG",
          "HND",
          "UZB",
          "MYS",
          "PRT",
          "PRK",
          "GRC",
          "MUS",
          "THA",
          "MNG",
          "KGZ",
          "MDA",
          "CHN",
          "VNM",
          "PRY",
          "MNE",
          "JAM",
          "BOL",
          "RUS",
          "BIH",
          "COL",
          "DOM",
          "ECU",
          "PER",
          "PHL",
          "BGR",
          "NPL",
          "ARM",
          "TJK",
          "DZA",
          "HKG",
          "ALB",
          "IDN",
          "ZAF",
          "COG",
          "MKD",
          "VEN",
          "LAO",
          "GEO",
          "GIN",
          "UKR",
          "CIV",
          "GAB",
          "NGA",
          "CMR",
          "MOZ",
          "IRQ",
          "PSE",
          "MAR",
          "IRN",
          "SEN",
          "MRT",
          "BFA",
          "NAM",
          "TUR",
          "GHA",
          "PAK",
          "NER",
          "TUN",
          "KEN",
          "LKA",
          "UGA",
          "TCD",
          "KHM",
          "BEN",
          "MMR",
          "BGD",
          "GMB",
          "MLI",
          "EGY",
          "TGO",
          "JOR",
          "ETH",
          "LBR",
          "IND",
          "MDG",
          "ZMB",
          "TZA",
          "COM",
          "MWI",
          "BWA",
          "COD",
          "ZWE",
          "SLE",
          "LBN",
          "AFG"
         ],
         "name": "",
         "type": "choropleth",
         "z": [
          1,
          2,
          3,
          4,
          5,
          6,
          7,
          8,
          9,
          10,
          11,
          12,
          13,
          14,
          15,
          16,
          17,
          18,
          19,
          20,
          21,
          22,
          23,
          24,
          25,
          26,
          27,
          28,
          29,
          30,
          31,
          32,
          33,
          34,
          35,
          36,
          37,
          38,
          39,
          40,
          41,
          42,
          43,
          44,
          44,
          46,
          47,
          48,
          48,
          50,
          51,
          52,
          53,
          54,
          55,
          56,
          57,
          58,
          59,
          60,
          61,
          62,
          63,
          64,
          65,
          66,
          67,
          68,
          69,
          70,
          71,
          72,
          73,
          74,
          75,
          76,
          77,
          78,
          79,
          80,
          81,
          82,
          83,
          83,
          85,
          86,
          87,
          88,
          89,
          90,
          91,
          92,
          93,
          94,
          95,
          96,
          97,
          98,
          99,
          100,
          101,
          102,
          103,
          104,
          105,
          106,
          107,
          108,
          109,
          110,
          111,
          112,
          113,
          114,
          115,
          116,
          117,
          118,
          119,
          120,
          121,
          122,
          123,
          124,
          125,
          126,
          127,
          128,
          129,
          130,
          131,
          132,
          133,
          134,
          135,
          136,
          137
         ]
        }
       ],
       "layout": {
        "coloraxis": {
         "colorbar": {
          "title": {
           "text": "rank"
          }
         },
         "colorscale": [
          [
           0,
           "rgb(0,104,55)"
          ],
          [
           0.1,
           "rgb(26,152,80)"
          ],
          [
           0.2,
           "rgb(102,189,99)"
          ],
          [
           0.3,
           "rgb(166,217,106)"
          ],
          [
           0.4,
           "rgb(217,239,139)"
          ],
          [
           0.5,
           "rgb(255,255,191)"
          ],
          [
           0.6,
           "rgb(254,224,139)"
          ],
          [
           0.7,
           "rgb(253,174,97)"
          ],
          [
           0.8,
           "rgb(244,109,67)"
          ],
          [
           0.9,
           "rgb(215,48,39)"
          ],
          [
           1,
           "rgb(165,0,38)"
          ]
         ]
        },
        "geo": {
         "center": {},
         "domain": {
          "x": [
           0,
           1
          ],
          "y": [
           0,
           1
          ]
         },
         "scope": "world"
        },
        "legend": {
         "tracegroupgap": 0
        },
        "template": {
         "data": {
          "bar": [
           {
            "error_x": {
             "color": "#2a3f5f"
            },
            "error_y": {
             "color": "#2a3f5f"
            },
            "marker": {
             "line": {
              "color": "#E5ECF6",
              "width": 0.5
             },
             "pattern": {
              "fillmode": "overlay",
              "size": 10,
              "solidity": 0.2
             }
            },
            "type": "bar"
           }
          ],
          "barpolar": [
           {
            "marker": {
             "line": {
              "color": "#E5ECF6",
              "width": 0.5
             },
             "pattern": {
              "fillmode": "overlay",
              "size": 10,
              "solidity": 0.2
             }
            },
            "type": "barpolar"
           }
          ],
          "carpet": [
           {
            "aaxis": {
             "endlinecolor": "#2a3f5f",
             "gridcolor": "white",
             "linecolor": "white",
             "minorgridcolor": "white",
             "startlinecolor": "#2a3f5f"
            },
            "baxis": {
             "endlinecolor": "#2a3f5f",
             "gridcolor": "white",
             "linecolor": "white",
             "minorgridcolor": "white",
             "startlinecolor": "#2a3f5f"
            },
            "type": "carpet"
           }
          ],
          "choropleth": [
           {
            "colorbar": {
             "outlinewidth": 0,
             "ticks": ""
            },
            "type": "choropleth"
           }
          ],
          "contour": [
           {
            "colorbar": {
             "outlinewidth": 0,
             "ticks": ""
            },
            "colorscale": [
             [
              0,
              "#0d0887"
             ],
             [
              0.1111111111111111,
              "#46039f"
             ],
             [
              0.2222222222222222,
              "#7201a8"
             ],
             [
              0.3333333333333333,
              "#9c179e"
             ],
             [
              0.4444444444444444,
              "#bd3786"
             ],
             [
              0.5555555555555556,
              "#d8576b"
             ],
             [
              0.6666666666666666,
              "#ed7953"
             ],
             [
              0.7777777777777778,
              "#fb9f3a"
             ],
             [
              0.8888888888888888,
              "#fdca26"
             ],
             [
              1,
              "#f0f921"
             ]
            ],
            "type": "contour"
           }
          ],
          "contourcarpet": [
           {
            "colorbar": {
             "outlinewidth": 0,
             "ticks": ""
            },
            "type": "contourcarpet"
           }
          ],
          "heatmap": [
           {
            "colorbar": {
             "outlinewidth": 0,
             "ticks": ""
            },
            "colorscale": [
             [
              0,
              "#0d0887"
             ],
             [
              0.1111111111111111,
              "#46039f"
             ],
             [
              0.2222222222222222,
              "#7201a8"
             ],
             [
              0.3333333333333333,
              "#9c179e"
             ],
             [
              0.4444444444444444,
              "#bd3786"
             ],
             [
              0.5555555555555556,
              "#d8576b"
             ],
             [
              0.6666666666666666,
              "#ed7953"
             ],
             [
              0.7777777777777778,
              "#fb9f3a"
             ],
             [
              0.8888888888888888,
              "#fdca26"
             ],
             [
              1,
              "#f0f921"
             ]
            ],
            "type": "heatmap"
           }
          ],
          "heatmapgl": [
           {
            "colorbar": {
             "outlinewidth": 0,
             "ticks": ""
            },
            "colorscale": [
             [
              0,
              "#0d0887"
             ],
             [
              0.1111111111111111,
              "#46039f"
             ],
             [
              0.2222222222222222,
              "#7201a8"
             ],
             [
              0.3333333333333333,
              "#9c179e"
             ],
             [
              0.4444444444444444,
              "#bd3786"
             ],
             [
              0.5555555555555556,
              "#d8576b"
             ],
             [
              0.6666666666666666,
              "#ed7953"
             ],
             [
              0.7777777777777778,
              "#fb9f3a"
             ],
             [
              0.8888888888888888,
              "#fdca26"
             ],
             [
              1,
              "#f0f921"
             ]
            ],
            "type": "heatmapgl"
           }
          ],
          "histogram": [
           {
            "marker": {
             "pattern": {
              "fillmode": "overlay",
              "size": 10,
              "solidity": 0.2
             }
            },
            "type": "histogram"
           }
          ],
          "histogram2d": [
           {
            "colorbar": {
             "outlinewidth": 0,
             "ticks": ""
            },
            "colorscale": [
             [
              0,
              "#0d0887"
             ],
             [
              0.1111111111111111,
              "#46039f"
             ],
             [
              0.2222222222222222,
              "#7201a8"
             ],
             [
              0.3333333333333333,
              "#9c179e"
             ],
             [
              0.4444444444444444,
              "#bd3786"
             ],
             [
              0.5555555555555556,
              "#d8576b"
             ],
             [
              0.6666666666666666,
              "#ed7953"
             ],
             [
              0.7777777777777778,
              "#fb9f3a"
             ],
             [
              0.8888888888888888,
              "#fdca26"
             ],
             [
              1,
              "#f0f921"
             ]
            ],
            "type": "histogram2d"
           }
          ],
          "histogram2dcontour": [
           {
            "colorbar": {
             "outlinewidth": 0,
             "ticks": ""
            },
            "colorscale": [
             [
              0,
              "#0d0887"
             ],
             [
              0.1111111111111111,
              "#46039f"
             ],
             [
              0.2222222222222222,
              "#7201a8"
             ],
             [
              0.3333333333333333,
              "#9c179e"
             ],
             [
              0.4444444444444444,
              "#bd3786"
             ],
             [
              0.5555555555555556,
              "#d8576b"
             ],
             [
              0.6666666666666666,
              "#ed7953"
             ],
             [
              0.7777777777777778,
              "#fb9f3a"
             ],
             [
              0.8888888888888888,
              "#fdca26"
             ],
             [
              1,
              "#f0f921"
             ]
            ],
            "type": "histogram2dcontour"
           }
          ],
          "mesh3d": [
           {
            "colorbar": {
             "outlinewidth": 0,
             "ticks": ""
            },
            "type": "mesh3d"
           }
          ],
          "parcoords": [
           {
            "line": {
             "colorbar": {
              "outlinewidth": 0,
              "ticks": ""
             }
            },
            "type": "parcoords"
           }
          ],
          "pie": [
           {
            "automargin": true,
            "type": "pie"
           }
          ],
          "scatter": [
           {
            "fillpattern": {
             "fillmode": "overlay",
             "size": 10,
             "solidity": 0.2
            },
            "type": "scatter"
           }
          ],
          "scatter3d": [
           {
            "line": {
             "colorbar": {
              "outlinewidth": 0,
              "ticks": ""
             }
            },
            "marker": {
             "colorbar": {
              "outlinewidth": 0,
              "ticks": ""
             }
            },
            "type": "scatter3d"
           }
          ],
          "scattercarpet": [
           {
            "marker": {
             "colorbar": {
              "outlinewidth": 0,
              "ticks": ""
             }
            },
            "type": "scattercarpet"
           }
          ],
          "scattergeo": [
           {
            "marker": {
             "colorbar": {
              "outlinewidth": 0,
              "ticks": ""
             }
            },
            "type": "scattergeo"
           }
          ],
          "scattergl": [
           {
            "marker": {
             "colorbar": {
              "outlinewidth": 0,
              "ticks": ""
             }
            },
            "type": "scattergl"
           }
          ],
          "scattermapbox": [
           {
            "marker": {
             "colorbar": {
              "outlinewidth": 0,
              "ticks": ""
             }
            },
            "type": "scattermapbox"
           }
          ],
          "scatterpolar": [
           {
            "marker": {
             "colorbar": {
              "outlinewidth": 0,
              "ticks": ""
             }
            },
            "type": "scatterpolar"
           }
          ],
          "scatterpolargl": [
           {
            "marker": {
             "colorbar": {
              "outlinewidth": 0,
              "ticks": ""
             }
            },
            "type": "scatterpolargl"
           }
          ],
          "scatterternary": [
           {
            "marker": {
             "colorbar": {
              "outlinewidth": 0,
              "ticks": ""
             }
            },
            "type": "scatterternary"
           }
          ],
          "surface": [
           {
            "colorbar": {
             "outlinewidth": 0,
             "ticks": ""
            },
            "colorscale": [
             [
              0,
              "#0d0887"
             ],
             [
              0.1111111111111111,
              "#46039f"
             ],
             [
              0.2222222222222222,
              "#7201a8"
             ],
             [
              0.3333333333333333,
              "#9c179e"
             ],
             [
              0.4444444444444444,
              "#bd3786"
             ],
             [
              0.5555555555555556,
              "#d8576b"
             ],
             [
              0.6666666666666666,
              "#ed7953"
             ],
             [
              0.7777777777777778,
              "#fb9f3a"
             ],
             [
              0.8888888888888888,
              "#fdca26"
             ],
             [
              1,
              "#f0f921"
             ]
            ],
            "type": "surface"
           }
          ],
          "table": [
           {
            "cells": {
             "fill": {
              "color": "#EBF0F8"
             },
             "line": {
              "color": "white"
             }
            },
            "header": {
             "fill": {
              "color": "#C8D4E3"
             },
             "line": {
              "color": "white"
             }
            },
            "type": "table"
           }
          ]
         },
         "layout": {
          "annotationdefaults": {
           "arrowcolor": "#2a3f5f",
           "arrowhead": 0,
           "arrowwidth": 1
          },
          "autotypenumbers": "strict",
          "coloraxis": {
           "colorbar": {
            "outlinewidth": 0,
            "ticks": ""
           }
          },
          "colorscale": {
           "diverging": [
            [
             0,
             "#8e0152"
            ],
            [
             0.1,
             "#c51b7d"
            ],
            [
             0.2,
             "#de77ae"
            ],
            [
             0.3,
             "#f1b6da"
            ],
            [
             0.4,
             "#fde0ef"
            ],
            [
             0.5,
             "#f7f7f7"
            ],
            [
             0.6,
             "#e6f5d0"
            ],
            [
             0.7,
             "#b8e186"
            ],
            [
             0.8,
             "#7fbc41"
            ],
            [
             0.9,
             "#4d9221"
            ],
            [
             1,
             "#276419"
            ]
           ],
           "sequential": [
            [
             0,
             "#0d0887"
            ],
            [
             0.1111111111111111,
             "#46039f"
            ],
            [
             0.2222222222222222,
             "#7201a8"
            ],
            [
             0.3333333333333333,
             "#9c179e"
            ],
            [
             0.4444444444444444,
             "#bd3786"
            ],
            [
             0.5555555555555556,
             "#d8576b"
            ],
            [
             0.6666666666666666,
             "#ed7953"
            ],
            [
             0.7777777777777778,
             "#fb9f3a"
            ],
            [
             0.8888888888888888,
             "#fdca26"
            ],
            [
             1,
             "#f0f921"
            ]
           ],
           "sequentialminus": [
            [
             0,
             "#0d0887"
            ],
            [
             0.1111111111111111,
             "#46039f"
            ],
            [
             0.2222222222222222,
             "#7201a8"
            ],
            [
             0.3333333333333333,
             "#9c179e"
            ],
            [
             0.4444444444444444,
             "#bd3786"
            ],
            [
             0.5555555555555556,
             "#d8576b"
            ],
            [
             0.6666666666666666,
             "#ed7953"
            ],
            [
             0.7777777777777778,
             "#fb9f3a"
            ],
            [
             0.8888888888888888,
             "#fdca26"
            ],
            [
             1,
             "#f0f921"
            ]
           ]
          },
          "colorway": [
           "#636efa",
           "#EF553B",
           "#00cc96",
           "#ab63fa",
           "#FFA15A",
           "#19d3f3",
           "#FF6692",
           "#B6E880",
           "#FF97FF",
           "#FECB52"
          ],
          "font": {
           "color": "#2a3f5f"
          },
          "geo": {
           "bgcolor": "white",
           "lakecolor": "white",
           "landcolor": "#E5ECF6",
           "showlakes": true,
           "showland": true,
           "subunitcolor": "white"
          },
          "hoverlabel": {
           "align": "left"
          },
          "hovermode": "closest",
          "mapbox": {
           "style": "light"
          },
          "paper_bgcolor": "white",
          "plot_bgcolor": "#E5ECF6",
          "polar": {
           "angularaxis": {
            "gridcolor": "white",
            "linecolor": "white",
            "ticks": ""
           },
           "bgcolor": "#E5ECF6",
           "radialaxis": {
            "gridcolor": "white",
            "linecolor": "white",
            "ticks": ""
           }
          },
          "scene": {
           "xaxis": {
            "backgroundcolor": "#E5ECF6",
            "gridcolor": "white",
            "gridwidth": 2,
            "linecolor": "white",
            "showbackground": true,
            "ticks": "",
            "zerolinecolor": "white"
           },
           "yaxis": {
            "backgroundcolor": "#E5ECF6",
            "gridcolor": "white",
            "gridwidth": 2,
            "linecolor": "white",
            "showbackground": true,
            "ticks": "",
            "zerolinecolor": "white"
           },
           "zaxis": {
            "backgroundcolor": "#E5ECF6",
            "gridcolor": "white",
            "gridwidth": 2,
            "linecolor": "white",
            "showbackground": true,
            "ticks": "",
            "zerolinecolor": "white"
           }
          },
          "shapedefaults": {
           "line": {
            "color": "#2a3f5f"
           }
          },
          "ternary": {
           "aaxis": {
            "gridcolor": "white",
            "linecolor": "white",
            "ticks": ""
           },
           "baxis": {
            "gridcolor": "white",
            "linecolor": "white",
            "ticks": ""
           },
           "bgcolor": "#E5ECF6",
           "caxis": {
            "gridcolor": "white",
            "linecolor": "white",
            "ticks": ""
           }
          },
          "title": {
           "x": 0.05
          },
          "xaxis": {
           "automargin": true,
           "gridcolor": "white",
           "linecolor": "white",
           "ticks": "",
           "title": {
            "standoff": 15
           },
           "zerolinecolor": "white",
           "zerolinewidth": 2
          },
          "yaxis": {
           "automargin": true,
           "gridcolor": "white",
           "linecolor": "white",
           "ticks": "",
           "title": {
            "standoff": 15
           },
           "zerolinecolor": "white",
           "zerolinewidth": 2
          }
         }
        },
        "title": {
         "text": "Happiness Ranking on the World Map"
        }
       }
      }
     },
     "metadata": {},
     "output_type": "display_data"
    }
   ],
   "source": [
    "# Creating a World map using plotly library and visualising ladder score ranking on the map\n",
    "world_map = px.choropleth(merged_df, locations=\"iso_alpha\", color=\"rank\", scope=\"world\", title=\"Happiness Ranking on the World Map\", color_continuous_scale=\"rdylgn_r\", hover_name=\"country_name\")\n",
    "world_map.show()"
   ]
  },
  {
   "cell_type": "code",
   "execution_count": 90,
   "metadata": {},
   "outputs": [
    {
     "data": {
      "application/vnd.plotly.v1+json": {
       "config": {
        "plotlyServerURL": "https://plot.ly"
       },
       "data": [
        {
         "coloraxis": "coloraxis",
         "geo": "geo",
         "hovertemplate": "<b>%{hovertext}</b><br><br>iso_alpha=%{location}<br>rank=%{z}<extra></extra>",
         "hovertext": [
          "Finland",
          "Denmark",
          "Iceland",
          "Israel",
          "Netherlands",
          "Sweden",
          "Norway",
          "Switzerland",
          "Luxembourg",
          "New Zealand",
          "Austria",
          "Australia",
          "Canada",
          "Ireland",
          "United States",
          "Germany",
          "Belgium",
          "Czechia",
          "United Kingdom",
          "Lithuania",
          "France",
          "Slovenia",
          "Costa Rica",
          "Romania",
          "Singapore",
          "United Arab Emirates",
          "Taiwan Province of China",
          "Uruguay",
          "Slovakia",
          "Saudi Arabia",
          "Estonia",
          "Spain",
          "Italy",
          "Kosovo",
          "Chile",
          "Mexico",
          "Malta",
          "Panama",
          "Poland",
          "Nicaragua",
          "Latvia",
          "Bahrain",
          "Guatemala",
          "Kazakhstan",
          "Serbia",
          "Cyprus",
          "Japan",
          "Croatia",
          "Brazil",
          "El Salvador",
          "Hungary",
          "Argentina",
          "Honduras",
          "Uzbekistan",
          "Malaysia",
          "Portugal",
          "South Korea",
          "Greece",
          "Mauritius",
          "Thailand",
          "Mongolia",
          "Kyrgyzstan",
          "Moldova",
          "China",
          "Vietnam",
          "Paraguay",
          "Montenegro",
          "Jamaica",
          "Bolivia",
          "Russia",
          "Bosnia and Herzegovina",
          "Colombia",
          "Dominican Republic",
          "Ecuador",
          "Peru",
          "Philippines",
          "Bulgaria",
          "Nepal",
          "Armenia",
          "Tajikistan",
          "Algeria",
          "Hong Kong S.A.R. of China",
          "Albania",
          "Indonesia",
          "South Africa",
          "Congo (Brazzaville)",
          "North Macedonia",
          "Venezuela",
          "Laos",
          "Georgia",
          "Guinea",
          "Ukraine",
          "Ivory Coast",
          "Gabon",
          "Nigeria",
          "Cameroon",
          "Mozambique",
          "Iraq",
          "State of Palestine",
          "Morocco",
          "Iran",
          "Senegal",
          "Mauritania",
          "Burkina Faso",
          "Namibia",
          "Turkiye",
          "Ghana",
          "Pakistan",
          "Niger",
          "Tunisia",
          "Kenya",
          "Sri Lanka",
          "Uganda",
          "Chad",
          "Cambodia",
          "Benin",
          "Myanmar",
          "Bangladesh",
          "Gambia",
          "Mali",
          "Egypt",
          "Togo",
          "Jordan",
          "Ethiopia",
          "Liberia",
          "India",
          "Madagascar",
          "Zambia",
          "Tanzania",
          "Comoros",
          "Malawi",
          "Botswana",
          "Congo (Kinshasa)",
          "Zimbabwe",
          "Sierra Leone",
          "Lebanon",
          "Afghanistan"
         ],
         "locations": [
          "FIN",
          "DNK",
          "ISL",
          "ISR",
          "NLD",
          "SWE",
          "NOR",
          "CHE",
          "LUX",
          "NZL",
          "AUT",
          "AUS",
          "CAN",
          "IRL",
          "USA",
          "DEU",
          "BEL",
          "CZE",
          "GBR",
          "LTU",
          "FRA",
          "SVN",
          "CRI",
          "ROU",
          "SGP",
          "ARE",
          "TWN",
          "URY",
          "SVK",
          "SAU",
          "EST",
          "ESP",
          "ITA",
          "XXK",
          "CHL",
          "MEX",
          "MLT",
          "PAN",
          "POL",
          "NIC",
          "LVA",
          "BHR",
          "GTM",
          "KAZ",
          "SRB",
          "CYP",
          "JPN",
          "HRV",
          "BRA",
          "SLV",
          "HUN",
          "ARG",
          "HND",
          "UZB",
          "MYS",
          "PRT",
          "PRK",
          "GRC",
          "MUS",
          "THA",
          "MNG",
          "KGZ",
          "MDA",
          "CHN",
          "VNM",
          "PRY",
          "MNE",
          "JAM",
          "BOL",
          "RUS",
          "BIH",
          "COL",
          "DOM",
          "ECU",
          "PER",
          "PHL",
          "BGR",
          "NPL",
          "ARM",
          "TJK",
          "DZA",
          "HKG",
          "ALB",
          "IDN",
          "ZAF",
          "COG",
          "MKD",
          "VEN",
          "LAO",
          "GEO",
          "GIN",
          "UKR",
          "CIV",
          "GAB",
          "NGA",
          "CMR",
          "MOZ",
          "IRQ",
          "PSE",
          "MAR",
          "IRN",
          "SEN",
          "MRT",
          "BFA",
          "NAM",
          "TUR",
          "GHA",
          "PAK",
          "NER",
          "TUN",
          "KEN",
          "LKA",
          "UGA",
          "TCD",
          "KHM",
          "BEN",
          "MMR",
          "BGD",
          "GMB",
          "MLI",
          "EGY",
          "TGO",
          "JOR",
          "ETH",
          "LBR",
          "IND",
          "MDG",
          "ZMB",
          "TZA",
          "COM",
          "MWI",
          "BWA",
          "COD",
          "ZWE",
          "SLE",
          "LBN",
          "AFG"
         ],
         "name": "",
         "type": "choropleth",
         "z": [
          1,
          2,
          3,
          4,
          5,
          6,
          7,
          8,
          9,
          10,
          11,
          12,
          13,
          14,
          15,
          16,
          17,
          18,
          19,
          20,
          21,
          22,
          23,
          24,
          25,
          26,
          27,
          28,
          29,
          30,
          31,
          32,
          33,
          34,
          35,
          36,
          37,
          38,
          39,
          40,
          41,
          42,
          43,
          44,
          44,
          46,
          47,
          48,
          48,
          50,
          51,
          52,
          53,
          54,
          55,
          56,
          57,
          58,
          59,
          60,
          61,
          62,
          63,
          64,
          65,
          66,
          67,
          68,
          69,
          70,
          71,
          72,
          73,
          74,
          75,
          76,
          77,
          78,
          79,
          80,
          81,
          82,
          83,
          83,
          85,
          86,
          87,
          88,
          89,
          90,
          91,
          92,
          93,
          94,
          95,
          96,
          97,
          98,
          99,
          100,
          101,
          102,
          103,
          104,
          105,
          106,
          107,
          108,
          109,
          110,
          111,
          112,
          113,
          114,
          115,
          116,
          117,
          118,
          119,
          120,
          121,
          122,
          123,
          124,
          125,
          126,
          127,
          128,
          129,
          130,
          131,
          132,
          133,
          134,
          135,
          136,
          137
         ]
        }
       ],
       "layout": {
        "coloraxis": {
         "colorbar": {
          "title": {
           "text": "rank"
          }
         },
         "colorscale": [
          [
           0,
           "rgb(0,104,55)"
          ],
          [
           0.1,
           "rgb(26,152,80)"
          ],
          [
           0.2,
           "rgb(102,189,99)"
          ],
          [
           0.3,
           "rgb(166,217,106)"
          ],
          [
           0.4,
           "rgb(217,239,139)"
          ],
          [
           0.5,
           "rgb(255,255,191)"
          ],
          [
           0.6,
           "rgb(254,224,139)"
          ],
          [
           0.7,
           "rgb(253,174,97)"
          ],
          [
           0.8,
           "rgb(244,109,67)"
          ],
          [
           0.9,
           "rgb(215,48,39)"
          ],
          [
           1,
           "rgb(165,0,38)"
          ]
         ]
        },
        "geo": {
         "center": {},
         "domain": {
          "x": [
           0,
           1
          ],
          "y": [
           0,
           1
          ]
         },
         "scope": "europe"
        },
        "legend": {
         "tracegroupgap": 0
        },
        "template": {
         "data": {
          "bar": [
           {
            "error_x": {
             "color": "#2a3f5f"
            },
            "error_y": {
             "color": "#2a3f5f"
            },
            "marker": {
             "line": {
              "color": "#E5ECF6",
              "width": 0.5
             },
             "pattern": {
              "fillmode": "overlay",
              "size": 10,
              "solidity": 0.2
             }
            },
            "type": "bar"
           }
          ],
          "barpolar": [
           {
            "marker": {
             "line": {
              "color": "#E5ECF6",
              "width": 0.5
             },
             "pattern": {
              "fillmode": "overlay",
              "size": 10,
              "solidity": 0.2
             }
            },
            "type": "barpolar"
           }
          ],
          "carpet": [
           {
            "aaxis": {
             "endlinecolor": "#2a3f5f",
             "gridcolor": "white",
             "linecolor": "white",
             "minorgridcolor": "white",
             "startlinecolor": "#2a3f5f"
            },
            "baxis": {
             "endlinecolor": "#2a3f5f",
             "gridcolor": "white",
             "linecolor": "white",
             "minorgridcolor": "white",
             "startlinecolor": "#2a3f5f"
            },
            "type": "carpet"
           }
          ],
          "choropleth": [
           {
            "colorbar": {
             "outlinewidth": 0,
             "ticks": ""
            },
            "type": "choropleth"
           }
          ],
          "contour": [
           {
            "colorbar": {
             "outlinewidth": 0,
             "ticks": ""
            },
            "colorscale": [
             [
              0,
              "#0d0887"
             ],
             [
              0.1111111111111111,
              "#46039f"
             ],
             [
              0.2222222222222222,
              "#7201a8"
             ],
             [
              0.3333333333333333,
              "#9c179e"
             ],
             [
              0.4444444444444444,
              "#bd3786"
             ],
             [
              0.5555555555555556,
              "#d8576b"
             ],
             [
              0.6666666666666666,
              "#ed7953"
             ],
             [
              0.7777777777777778,
              "#fb9f3a"
             ],
             [
              0.8888888888888888,
              "#fdca26"
             ],
             [
              1,
              "#f0f921"
             ]
            ],
            "type": "contour"
           }
          ],
          "contourcarpet": [
           {
            "colorbar": {
             "outlinewidth": 0,
             "ticks": ""
            },
            "type": "contourcarpet"
           }
          ],
          "heatmap": [
           {
            "colorbar": {
             "outlinewidth": 0,
             "ticks": ""
            },
            "colorscale": [
             [
              0,
              "#0d0887"
             ],
             [
              0.1111111111111111,
              "#46039f"
             ],
             [
              0.2222222222222222,
              "#7201a8"
             ],
             [
              0.3333333333333333,
              "#9c179e"
             ],
             [
              0.4444444444444444,
              "#bd3786"
             ],
             [
              0.5555555555555556,
              "#d8576b"
             ],
             [
              0.6666666666666666,
              "#ed7953"
             ],
             [
              0.7777777777777778,
              "#fb9f3a"
             ],
             [
              0.8888888888888888,
              "#fdca26"
             ],
             [
              1,
              "#f0f921"
             ]
            ],
            "type": "heatmap"
           }
          ],
          "heatmapgl": [
           {
            "colorbar": {
             "outlinewidth": 0,
             "ticks": ""
            },
            "colorscale": [
             [
              0,
              "#0d0887"
             ],
             [
              0.1111111111111111,
              "#46039f"
             ],
             [
              0.2222222222222222,
              "#7201a8"
             ],
             [
              0.3333333333333333,
              "#9c179e"
             ],
             [
              0.4444444444444444,
              "#bd3786"
             ],
             [
              0.5555555555555556,
              "#d8576b"
             ],
             [
              0.6666666666666666,
              "#ed7953"
             ],
             [
              0.7777777777777778,
              "#fb9f3a"
             ],
             [
              0.8888888888888888,
              "#fdca26"
             ],
             [
              1,
              "#f0f921"
             ]
            ],
            "type": "heatmapgl"
           }
          ],
          "histogram": [
           {
            "marker": {
             "pattern": {
              "fillmode": "overlay",
              "size": 10,
              "solidity": 0.2
             }
            },
            "type": "histogram"
           }
          ],
          "histogram2d": [
           {
            "colorbar": {
             "outlinewidth": 0,
             "ticks": ""
            },
            "colorscale": [
             [
              0,
              "#0d0887"
             ],
             [
              0.1111111111111111,
              "#46039f"
             ],
             [
              0.2222222222222222,
              "#7201a8"
             ],
             [
              0.3333333333333333,
              "#9c179e"
             ],
             [
              0.4444444444444444,
              "#bd3786"
             ],
             [
              0.5555555555555556,
              "#d8576b"
             ],
             [
              0.6666666666666666,
              "#ed7953"
             ],
             [
              0.7777777777777778,
              "#fb9f3a"
             ],
             [
              0.8888888888888888,
              "#fdca26"
             ],
             [
              1,
              "#f0f921"
             ]
            ],
            "type": "histogram2d"
           }
          ],
          "histogram2dcontour": [
           {
            "colorbar": {
             "outlinewidth": 0,
             "ticks": ""
            },
            "colorscale": [
             [
              0,
              "#0d0887"
             ],
             [
              0.1111111111111111,
              "#46039f"
             ],
             [
              0.2222222222222222,
              "#7201a8"
             ],
             [
              0.3333333333333333,
              "#9c179e"
             ],
             [
              0.4444444444444444,
              "#bd3786"
             ],
             [
              0.5555555555555556,
              "#d8576b"
             ],
             [
              0.6666666666666666,
              "#ed7953"
             ],
             [
              0.7777777777777778,
              "#fb9f3a"
             ],
             [
              0.8888888888888888,
              "#fdca26"
             ],
             [
              1,
              "#f0f921"
             ]
            ],
            "type": "histogram2dcontour"
           }
          ],
          "mesh3d": [
           {
            "colorbar": {
             "outlinewidth": 0,
             "ticks": ""
            },
            "type": "mesh3d"
           }
          ],
          "parcoords": [
           {
            "line": {
             "colorbar": {
              "outlinewidth": 0,
              "ticks": ""
             }
            },
            "type": "parcoords"
           }
          ],
          "pie": [
           {
            "automargin": true,
            "type": "pie"
           }
          ],
          "scatter": [
           {
            "fillpattern": {
             "fillmode": "overlay",
             "size": 10,
             "solidity": 0.2
            },
            "type": "scatter"
           }
          ],
          "scatter3d": [
           {
            "line": {
             "colorbar": {
              "outlinewidth": 0,
              "ticks": ""
             }
            },
            "marker": {
             "colorbar": {
              "outlinewidth": 0,
              "ticks": ""
             }
            },
            "type": "scatter3d"
           }
          ],
          "scattercarpet": [
           {
            "marker": {
             "colorbar": {
              "outlinewidth": 0,
              "ticks": ""
             }
            },
            "type": "scattercarpet"
           }
          ],
          "scattergeo": [
           {
            "marker": {
             "colorbar": {
              "outlinewidth": 0,
              "ticks": ""
             }
            },
            "type": "scattergeo"
           }
          ],
          "scattergl": [
           {
            "marker": {
             "colorbar": {
              "outlinewidth": 0,
              "ticks": ""
             }
            },
            "type": "scattergl"
           }
          ],
          "scattermapbox": [
           {
            "marker": {
             "colorbar": {
              "outlinewidth": 0,
              "ticks": ""
             }
            },
            "type": "scattermapbox"
           }
          ],
          "scatterpolar": [
           {
            "marker": {
             "colorbar": {
              "outlinewidth": 0,
              "ticks": ""
             }
            },
            "type": "scatterpolar"
           }
          ],
          "scatterpolargl": [
           {
            "marker": {
             "colorbar": {
              "outlinewidth": 0,
              "ticks": ""
             }
            },
            "type": "scatterpolargl"
           }
          ],
          "scatterternary": [
           {
            "marker": {
             "colorbar": {
              "outlinewidth": 0,
              "ticks": ""
             }
            },
            "type": "scatterternary"
           }
          ],
          "surface": [
           {
            "colorbar": {
             "outlinewidth": 0,
             "ticks": ""
            },
            "colorscale": [
             [
              0,
              "#0d0887"
             ],
             [
              0.1111111111111111,
              "#46039f"
             ],
             [
              0.2222222222222222,
              "#7201a8"
             ],
             [
              0.3333333333333333,
              "#9c179e"
             ],
             [
              0.4444444444444444,
              "#bd3786"
             ],
             [
              0.5555555555555556,
              "#d8576b"
             ],
             [
              0.6666666666666666,
              "#ed7953"
             ],
             [
              0.7777777777777778,
              "#fb9f3a"
             ],
             [
              0.8888888888888888,
              "#fdca26"
             ],
             [
              1,
              "#f0f921"
             ]
            ],
            "type": "surface"
           }
          ],
          "table": [
           {
            "cells": {
             "fill": {
              "color": "#EBF0F8"
             },
             "line": {
              "color": "white"
             }
            },
            "header": {
             "fill": {
              "color": "#C8D4E3"
             },
             "line": {
              "color": "white"
             }
            },
            "type": "table"
           }
          ]
         },
         "layout": {
          "annotationdefaults": {
           "arrowcolor": "#2a3f5f",
           "arrowhead": 0,
           "arrowwidth": 1
          },
          "autotypenumbers": "strict",
          "coloraxis": {
           "colorbar": {
            "outlinewidth": 0,
            "ticks": ""
           }
          },
          "colorscale": {
           "diverging": [
            [
             0,
             "#8e0152"
            ],
            [
             0.1,
             "#c51b7d"
            ],
            [
             0.2,
             "#de77ae"
            ],
            [
             0.3,
             "#f1b6da"
            ],
            [
             0.4,
             "#fde0ef"
            ],
            [
             0.5,
             "#f7f7f7"
            ],
            [
             0.6,
             "#e6f5d0"
            ],
            [
             0.7,
             "#b8e186"
            ],
            [
             0.8,
             "#7fbc41"
            ],
            [
             0.9,
             "#4d9221"
            ],
            [
             1,
             "#276419"
            ]
           ],
           "sequential": [
            [
             0,
             "#0d0887"
            ],
            [
             0.1111111111111111,
             "#46039f"
            ],
            [
             0.2222222222222222,
             "#7201a8"
            ],
            [
             0.3333333333333333,
             "#9c179e"
            ],
            [
             0.4444444444444444,
             "#bd3786"
            ],
            [
             0.5555555555555556,
             "#d8576b"
            ],
            [
             0.6666666666666666,
             "#ed7953"
            ],
            [
             0.7777777777777778,
             "#fb9f3a"
            ],
            [
             0.8888888888888888,
             "#fdca26"
            ],
            [
             1,
             "#f0f921"
            ]
           ],
           "sequentialminus": [
            [
             0,
             "#0d0887"
            ],
            [
             0.1111111111111111,
             "#46039f"
            ],
            [
             0.2222222222222222,
             "#7201a8"
            ],
            [
             0.3333333333333333,
             "#9c179e"
            ],
            [
             0.4444444444444444,
             "#bd3786"
            ],
            [
             0.5555555555555556,
             "#d8576b"
            ],
            [
             0.6666666666666666,
             "#ed7953"
            ],
            [
             0.7777777777777778,
             "#fb9f3a"
            ],
            [
             0.8888888888888888,
             "#fdca26"
            ],
            [
             1,
             "#f0f921"
            ]
           ]
          },
          "colorway": [
           "#636efa",
           "#EF553B",
           "#00cc96",
           "#ab63fa",
           "#FFA15A",
           "#19d3f3",
           "#FF6692",
           "#B6E880",
           "#FF97FF",
           "#FECB52"
          ],
          "font": {
           "color": "#2a3f5f"
          },
          "geo": {
           "bgcolor": "white",
           "lakecolor": "white",
           "landcolor": "#E5ECF6",
           "showlakes": true,
           "showland": true,
           "subunitcolor": "white"
          },
          "hoverlabel": {
           "align": "left"
          },
          "hovermode": "closest",
          "mapbox": {
           "style": "light"
          },
          "paper_bgcolor": "white",
          "plot_bgcolor": "#E5ECF6",
          "polar": {
           "angularaxis": {
            "gridcolor": "white",
            "linecolor": "white",
            "ticks": ""
           },
           "bgcolor": "#E5ECF6",
           "radialaxis": {
            "gridcolor": "white",
            "linecolor": "white",
            "ticks": ""
           }
          },
          "scene": {
           "xaxis": {
            "backgroundcolor": "#E5ECF6",
            "gridcolor": "white",
            "gridwidth": 2,
            "linecolor": "white",
            "showbackground": true,
            "ticks": "",
            "zerolinecolor": "white"
           },
           "yaxis": {
            "backgroundcolor": "#E5ECF6",
            "gridcolor": "white",
            "gridwidth": 2,
            "linecolor": "white",
            "showbackground": true,
            "ticks": "",
            "zerolinecolor": "white"
           },
           "zaxis": {
            "backgroundcolor": "#E5ECF6",
            "gridcolor": "white",
            "gridwidth": 2,
            "linecolor": "white",
            "showbackground": true,
            "ticks": "",
            "zerolinecolor": "white"
           }
          },
          "shapedefaults": {
           "line": {
            "color": "#2a3f5f"
           }
          },
          "ternary": {
           "aaxis": {
            "gridcolor": "white",
            "linecolor": "white",
            "ticks": ""
           },
           "baxis": {
            "gridcolor": "white",
            "linecolor": "white",
            "ticks": ""
           },
           "bgcolor": "#E5ECF6",
           "caxis": {
            "gridcolor": "white",
            "linecolor": "white",
            "ticks": ""
           }
          },
          "title": {
           "x": 0.05
          },
          "xaxis": {
           "automargin": true,
           "gridcolor": "white",
           "linecolor": "white",
           "ticks": "",
           "title": {
            "standoff": 15
           },
           "zerolinecolor": "white",
           "zerolinewidth": 2
          },
          "yaxis": {
           "automargin": true,
           "gridcolor": "white",
           "linecolor": "white",
           "ticks": "",
           "title": {
            "standoff": 15
           },
           "zerolinecolor": "white",
           "zerolinewidth": 2
          }
         }
        },
        "title": {
         "text": "Happiness Ranking of Europe"
        }
       }
      }
     },
     "metadata": {},
     "output_type": "display_data"
    }
   ],
   "source": [
    "# Just the map of Europe\n",
    "europe = px.choropleth(merged_df, locations=\"iso_alpha\", color=\"rank\", scope=\"europe\", title=\"Happiness Ranking of Europe\", color_continuous_scale=\"rdylgn_r\", hover_name=\"country_name\")\n",
    "europe.show()"
   ]
  },
  {
   "cell_type": "code",
   "execution_count": 91,
   "metadata": {},
   "outputs": [
    {
     "data": {
      "application/vnd.plotly.v1+json": {
       "config": {
        "plotlyServerURL": "https://plot.ly"
       },
       "data": [
        {
         "coloraxis": "coloraxis",
         "geo": "geo",
         "hovertemplate": "<b>%{hovertext}</b><br><br>iso_alpha=%{location}<br>rank=%{z}<extra></extra>",
         "hovertext": [
          "Finland",
          "Denmark",
          "Iceland",
          "Israel",
          "Netherlands",
          "Sweden",
          "Norway",
          "Switzerland",
          "Luxembourg",
          "New Zealand",
          "Austria",
          "Australia",
          "Canada",
          "Ireland",
          "United States",
          "Germany",
          "Belgium",
          "Czechia",
          "United Kingdom",
          "Lithuania",
          "France",
          "Slovenia",
          "Costa Rica",
          "Romania",
          "Singapore",
          "United Arab Emirates",
          "Taiwan Province of China",
          "Uruguay",
          "Slovakia",
          "Saudi Arabia",
          "Estonia",
          "Spain",
          "Italy",
          "Kosovo",
          "Chile",
          "Mexico",
          "Malta",
          "Panama",
          "Poland",
          "Nicaragua",
          "Latvia",
          "Bahrain",
          "Guatemala",
          "Kazakhstan",
          "Serbia",
          "Cyprus",
          "Japan",
          "Croatia",
          "Brazil",
          "El Salvador",
          "Hungary",
          "Argentina",
          "Honduras",
          "Uzbekistan",
          "Malaysia",
          "Portugal",
          "South Korea",
          "Greece",
          "Mauritius",
          "Thailand",
          "Mongolia",
          "Kyrgyzstan",
          "Moldova",
          "China",
          "Vietnam",
          "Paraguay",
          "Montenegro",
          "Jamaica",
          "Bolivia",
          "Russia",
          "Bosnia and Herzegovina",
          "Colombia",
          "Dominican Republic",
          "Ecuador",
          "Peru",
          "Philippines",
          "Bulgaria",
          "Nepal",
          "Armenia",
          "Tajikistan",
          "Algeria",
          "Hong Kong S.A.R. of China",
          "Albania",
          "Indonesia",
          "South Africa",
          "Congo (Brazzaville)",
          "North Macedonia",
          "Venezuela",
          "Laos",
          "Georgia",
          "Guinea",
          "Ukraine",
          "Ivory Coast",
          "Gabon",
          "Nigeria",
          "Cameroon",
          "Mozambique",
          "Iraq",
          "State of Palestine",
          "Morocco",
          "Iran",
          "Senegal",
          "Mauritania",
          "Burkina Faso",
          "Namibia",
          "Turkiye",
          "Ghana",
          "Pakistan",
          "Niger",
          "Tunisia",
          "Kenya",
          "Sri Lanka",
          "Uganda",
          "Chad",
          "Cambodia",
          "Benin",
          "Myanmar",
          "Bangladesh",
          "Gambia",
          "Mali",
          "Egypt",
          "Togo",
          "Jordan",
          "Ethiopia",
          "Liberia",
          "India",
          "Madagascar",
          "Zambia",
          "Tanzania",
          "Comoros",
          "Malawi",
          "Botswana",
          "Congo (Kinshasa)",
          "Zimbabwe",
          "Sierra Leone",
          "Lebanon",
          "Afghanistan"
         ],
         "locations": [
          "FIN",
          "DNK",
          "ISL",
          "ISR",
          "NLD",
          "SWE",
          "NOR",
          "CHE",
          "LUX",
          "NZL",
          "AUT",
          "AUS",
          "CAN",
          "IRL",
          "USA",
          "DEU",
          "BEL",
          "CZE",
          "GBR",
          "LTU",
          "FRA",
          "SVN",
          "CRI",
          "ROU",
          "SGP",
          "ARE",
          "TWN",
          "URY",
          "SVK",
          "SAU",
          "EST",
          "ESP",
          "ITA",
          "XXK",
          "CHL",
          "MEX",
          "MLT",
          "PAN",
          "POL",
          "NIC",
          "LVA",
          "BHR",
          "GTM",
          "KAZ",
          "SRB",
          "CYP",
          "JPN",
          "HRV",
          "BRA",
          "SLV",
          "HUN",
          "ARG",
          "HND",
          "UZB",
          "MYS",
          "PRT",
          "PRK",
          "GRC",
          "MUS",
          "THA",
          "MNG",
          "KGZ",
          "MDA",
          "CHN",
          "VNM",
          "PRY",
          "MNE",
          "JAM",
          "BOL",
          "RUS",
          "BIH",
          "COL",
          "DOM",
          "ECU",
          "PER",
          "PHL",
          "BGR",
          "NPL",
          "ARM",
          "TJK",
          "DZA",
          "HKG",
          "ALB",
          "IDN",
          "ZAF",
          "COG",
          "MKD",
          "VEN",
          "LAO",
          "GEO",
          "GIN",
          "UKR",
          "CIV",
          "GAB",
          "NGA",
          "CMR",
          "MOZ",
          "IRQ",
          "PSE",
          "MAR",
          "IRN",
          "SEN",
          "MRT",
          "BFA",
          "NAM",
          "TUR",
          "GHA",
          "PAK",
          "NER",
          "TUN",
          "KEN",
          "LKA",
          "UGA",
          "TCD",
          "KHM",
          "BEN",
          "MMR",
          "BGD",
          "GMB",
          "MLI",
          "EGY",
          "TGO",
          "JOR",
          "ETH",
          "LBR",
          "IND",
          "MDG",
          "ZMB",
          "TZA",
          "COM",
          "MWI",
          "BWA",
          "COD",
          "ZWE",
          "SLE",
          "LBN",
          "AFG"
         ],
         "name": "",
         "type": "choropleth",
         "z": [
          1,
          2,
          3,
          4,
          5,
          6,
          7,
          8,
          9,
          10,
          11,
          12,
          13,
          14,
          15,
          16,
          17,
          18,
          19,
          20,
          21,
          22,
          23,
          24,
          25,
          26,
          27,
          28,
          29,
          30,
          31,
          32,
          33,
          34,
          35,
          36,
          37,
          38,
          39,
          40,
          41,
          42,
          43,
          44,
          44,
          46,
          47,
          48,
          48,
          50,
          51,
          52,
          53,
          54,
          55,
          56,
          57,
          58,
          59,
          60,
          61,
          62,
          63,
          64,
          65,
          66,
          67,
          68,
          69,
          70,
          71,
          72,
          73,
          74,
          75,
          76,
          77,
          78,
          79,
          80,
          81,
          82,
          83,
          83,
          85,
          86,
          87,
          88,
          89,
          90,
          91,
          92,
          93,
          94,
          95,
          96,
          97,
          98,
          99,
          100,
          101,
          102,
          103,
          104,
          105,
          106,
          107,
          108,
          109,
          110,
          111,
          112,
          113,
          114,
          115,
          116,
          117,
          118,
          119,
          120,
          121,
          122,
          123,
          124,
          125,
          126,
          127,
          128,
          129,
          130,
          131,
          132,
          133,
          134,
          135,
          136,
          137
         ]
        }
       ],
       "layout": {
        "coloraxis": {
         "colorbar": {
          "title": {
           "text": "rank"
          }
         },
         "colorscale": [
          [
           0,
           "rgb(0,104,55)"
          ],
          [
           0.1,
           "rgb(26,152,80)"
          ],
          [
           0.2,
           "rgb(102,189,99)"
          ],
          [
           0.3,
           "rgb(166,217,106)"
          ],
          [
           0.4,
           "rgb(217,239,139)"
          ],
          [
           0.5,
           "rgb(255,255,191)"
          ],
          [
           0.6,
           "rgb(254,224,139)"
          ],
          [
           0.7,
           "rgb(253,174,97)"
          ],
          [
           0.8,
           "rgb(244,109,67)"
          ],
          [
           0.9,
           "rgb(215,48,39)"
          ],
          [
           1,
           "rgb(165,0,38)"
          ]
         ]
        },
        "geo": {
         "center": {},
         "domain": {
          "x": [
           0,
           1
          ],
          "y": [
           0,
           1
          ]
         },
         "scope": "asia"
        },
        "legend": {
         "tracegroupgap": 0
        },
        "template": {
         "data": {
          "bar": [
           {
            "error_x": {
             "color": "#2a3f5f"
            },
            "error_y": {
             "color": "#2a3f5f"
            },
            "marker": {
             "line": {
              "color": "#E5ECF6",
              "width": 0.5
             },
             "pattern": {
              "fillmode": "overlay",
              "size": 10,
              "solidity": 0.2
             }
            },
            "type": "bar"
           }
          ],
          "barpolar": [
           {
            "marker": {
             "line": {
              "color": "#E5ECF6",
              "width": 0.5
             },
             "pattern": {
              "fillmode": "overlay",
              "size": 10,
              "solidity": 0.2
             }
            },
            "type": "barpolar"
           }
          ],
          "carpet": [
           {
            "aaxis": {
             "endlinecolor": "#2a3f5f",
             "gridcolor": "white",
             "linecolor": "white",
             "minorgridcolor": "white",
             "startlinecolor": "#2a3f5f"
            },
            "baxis": {
             "endlinecolor": "#2a3f5f",
             "gridcolor": "white",
             "linecolor": "white",
             "minorgridcolor": "white",
             "startlinecolor": "#2a3f5f"
            },
            "type": "carpet"
           }
          ],
          "choropleth": [
           {
            "colorbar": {
             "outlinewidth": 0,
             "ticks": ""
            },
            "type": "choropleth"
           }
          ],
          "contour": [
           {
            "colorbar": {
             "outlinewidth": 0,
             "ticks": ""
            },
            "colorscale": [
             [
              0,
              "#0d0887"
             ],
             [
              0.1111111111111111,
              "#46039f"
             ],
             [
              0.2222222222222222,
              "#7201a8"
             ],
             [
              0.3333333333333333,
              "#9c179e"
             ],
             [
              0.4444444444444444,
              "#bd3786"
             ],
             [
              0.5555555555555556,
              "#d8576b"
             ],
             [
              0.6666666666666666,
              "#ed7953"
             ],
             [
              0.7777777777777778,
              "#fb9f3a"
             ],
             [
              0.8888888888888888,
              "#fdca26"
             ],
             [
              1,
              "#f0f921"
             ]
            ],
            "type": "contour"
           }
          ],
          "contourcarpet": [
           {
            "colorbar": {
             "outlinewidth": 0,
             "ticks": ""
            },
            "type": "contourcarpet"
           }
          ],
          "heatmap": [
           {
            "colorbar": {
             "outlinewidth": 0,
             "ticks": ""
            },
            "colorscale": [
             [
              0,
              "#0d0887"
             ],
             [
              0.1111111111111111,
              "#46039f"
             ],
             [
              0.2222222222222222,
              "#7201a8"
             ],
             [
              0.3333333333333333,
              "#9c179e"
             ],
             [
              0.4444444444444444,
              "#bd3786"
             ],
             [
              0.5555555555555556,
              "#d8576b"
             ],
             [
              0.6666666666666666,
              "#ed7953"
             ],
             [
              0.7777777777777778,
              "#fb9f3a"
             ],
             [
              0.8888888888888888,
              "#fdca26"
             ],
             [
              1,
              "#f0f921"
             ]
            ],
            "type": "heatmap"
           }
          ],
          "heatmapgl": [
           {
            "colorbar": {
             "outlinewidth": 0,
             "ticks": ""
            },
            "colorscale": [
             [
              0,
              "#0d0887"
             ],
             [
              0.1111111111111111,
              "#46039f"
             ],
             [
              0.2222222222222222,
              "#7201a8"
             ],
             [
              0.3333333333333333,
              "#9c179e"
             ],
             [
              0.4444444444444444,
              "#bd3786"
             ],
             [
              0.5555555555555556,
              "#d8576b"
             ],
             [
              0.6666666666666666,
              "#ed7953"
             ],
             [
              0.7777777777777778,
              "#fb9f3a"
             ],
             [
              0.8888888888888888,
              "#fdca26"
             ],
             [
              1,
              "#f0f921"
             ]
            ],
            "type": "heatmapgl"
           }
          ],
          "histogram": [
           {
            "marker": {
             "pattern": {
              "fillmode": "overlay",
              "size": 10,
              "solidity": 0.2
             }
            },
            "type": "histogram"
           }
          ],
          "histogram2d": [
           {
            "colorbar": {
             "outlinewidth": 0,
             "ticks": ""
            },
            "colorscale": [
             [
              0,
              "#0d0887"
             ],
             [
              0.1111111111111111,
              "#46039f"
             ],
             [
              0.2222222222222222,
              "#7201a8"
             ],
             [
              0.3333333333333333,
              "#9c179e"
             ],
             [
              0.4444444444444444,
              "#bd3786"
             ],
             [
              0.5555555555555556,
              "#d8576b"
             ],
             [
              0.6666666666666666,
              "#ed7953"
             ],
             [
              0.7777777777777778,
              "#fb9f3a"
             ],
             [
              0.8888888888888888,
              "#fdca26"
             ],
             [
              1,
              "#f0f921"
             ]
            ],
            "type": "histogram2d"
           }
          ],
          "histogram2dcontour": [
           {
            "colorbar": {
             "outlinewidth": 0,
             "ticks": ""
            },
            "colorscale": [
             [
              0,
              "#0d0887"
             ],
             [
              0.1111111111111111,
              "#46039f"
             ],
             [
              0.2222222222222222,
              "#7201a8"
             ],
             [
              0.3333333333333333,
              "#9c179e"
             ],
             [
              0.4444444444444444,
              "#bd3786"
             ],
             [
              0.5555555555555556,
              "#d8576b"
             ],
             [
              0.6666666666666666,
              "#ed7953"
             ],
             [
              0.7777777777777778,
              "#fb9f3a"
             ],
             [
              0.8888888888888888,
              "#fdca26"
             ],
             [
              1,
              "#f0f921"
             ]
            ],
            "type": "histogram2dcontour"
           }
          ],
          "mesh3d": [
           {
            "colorbar": {
             "outlinewidth": 0,
             "ticks": ""
            },
            "type": "mesh3d"
           }
          ],
          "parcoords": [
           {
            "line": {
             "colorbar": {
              "outlinewidth": 0,
              "ticks": ""
             }
            },
            "type": "parcoords"
           }
          ],
          "pie": [
           {
            "automargin": true,
            "type": "pie"
           }
          ],
          "scatter": [
           {
            "fillpattern": {
             "fillmode": "overlay",
             "size": 10,
             "solidity": 0.2
            },
            "type": "scatter"
           }
          ],
          "scatter3d": [
           {
            "line": {
             "colorbar": {
              "outlinewidth": 0,
              "ticks": ""
             }
            },
            "marker": {
             "colorbar": {
              "outlinewidth": 0,
              "ticks": ""
             }
            },
            "type": "scatter3d"
           }
          ],
          "scattercarpet": [
           {
            "marker": {
             "colorbar": {
              "outlinewidth": 0,
              "ticks": ""
             }
            },
            "type": "scattercarpet"
           }
          ],
          "scattergeo": [
           {
            "marker": {
             "colorbar": {
              "outlinewidth": 0,
              "ticks": ""
             }
            },
            "type": "scattergeo"
           }
          ],
          "scattergl": [
           {
            "marker": {
             "colorbar": {
              "outlinewidth": 0,
              "ticks": ""
             }
            },
            "type": "scattergl"
           }
          ],
          "scattermapbox": [
           {
            "marker": {
             "colorbar": {
              "outlinewidth": 0,
              "ticks": ""
             }
            },
            "type": "scattermapbox"
           }
          ],
          "scatterpolar": [
           {
            "marker": {
             "colorbar": {
              "outlinewidth": 0,
              "ticks": ""
             }
            },
            "type": "scatterpolar"
           }
          ],
          "scatterpolargl": [
           {
            "marker": {
             "colorbar": {
              "outlinewidth": 0,
              "ticks": ""
             }
            },
            "type": "scatterpolargl"
           }
          ],
          "scatterternary": [
           {
            "marker": {
             "colorbar": {
              "outlinewidth": 0,
              "ticks": ""
             }
            },
            "type": "scatterternary"
           }
          ],
          "surface": [
           {
            "colorbar": {
             "outlinewidth": 0,
             "ticks": ""
            },
            "colorscale": [
             [
              0,
              "#0d0887"
             ],
             [
              0.1111111111111111,
              "#46039f"
             ],
             [
              0.2222222222222222,
              "#7201a8"
             ],
             [
              0.3333333333333333,
              "#9c179e"
             ],
             [
              0.4444444444444444,
              "#bd3786"
             ],
             [
              0.5555555555555556,
              "#d8576b"
             ],
             [
              0.6666666666666666,
              "#ed7953"
             ],
             [
              0.7777777777777778,
              "#fb9f3a"
             ],
             [
              0.8888888888888888,
              "#fdca26"
             ],
             [
              1,
              "#f0f921"
             ]
            ],
            "type": "surface"
           }
          ],
          "table": [
           {
            "cells": {
             "fill": {
              "color": "#EBF0F8"
             },
             "line": {
              "color": "white"
             }
            },
            "header": {
             "fill": {
              "color": "#C8D4E3"
             },
             "line": {
              "color": "white"
             }
            },
            "type": "table"
           }
          ]
         },
         "layout": {
          "annotationdefaults": {
           "arrowcolor": "#2a3f5f",
           "arrowhead": 0,
           "arrowwidth": 1
          },
          "autotypenumbers": "strict",
          "coloraxis": {
           "colorbar": {
            "outlinewidth": 0,
            "ticks": ""
           }
          },
          "colorscale": {
           "diverging": [
            [
             0,
             "#8e0152"
            ],
            [
             0.1,
             "#c51b7d"
            ],
            [
             0.2,
             "#de77ae"
            ],
            [
             0.3,
             "#f1b6da"
            ],
            [
             0.4,
             "#fde0ef"
            ],
            [
             0.5,
             "#f7f7f7"
            ],
            [
             0.6,
             "#e6f5d0"
            ],
            [
             0.7,
             "#b8e186"
            ],
            [
             0.8,
             "#7fbc41"
            ],
            [
             0.9,
             "#4d9221"
            ],
            [
             1,
             "#276419"
            ]
           ],
           "sequential": [
            [
             0,
             "#0d0887"
            ],
            [
             0.1111111111111111,
             "#46039f"
            ],
            [
             0.2222222222222222,
             "#7201a8"
            ],
            [
             0.3333333333333333,
             "#9c179e"
            ],
            [
             0.4444444444444444,
             "#bd3786"
            ],
            [
             0.5555555555555556,
             "#d8576b"
            ],
            [
             0.6666666666666666,
             "#ed7953"
            ],
            [
             0.7777777777777778,
             "#fb9f3a"
            ],
            [
             0.8888888888888888,
             "#fdca26"
            ],
            [
             1,
             "#f0f921"
            ]
           ],
           "sequentialminus": [
            [
             0,
             "#0d0887"
            ],
            [
             0.1111111111111111,
             "#46039f"
            ],
            [
             0.2222222222222222,
             "#7201a8"
            ],
            [
             0.3333333333333333,
             "#9c179e"
            ],
            [
             0.4444444444444444,
             "#bd3786"
            ],
            [
             0.5555555555555556,
             "#d8576b"
            ],
            [
             0.6666666666666666,
             "#ed7953"
            ],
            [
             0.7777777777777778,
             "#fb9f3a"
            ],
            [
             0.8888888888888888,
             "#fdca26"
            ],
            [
             1,
             "#f0f921"
            ]
           ]
          },
          "colorway": [
           "#636efa",
           "#EF553B",
           "#00cc96",
           "#ab63fa",
           "#FFA15A",
           "#19d3f3",
           "#FF6692",
           "#B6E880",
           "#FF97FF",
           "#FECB52"
          ],
          "font": {
           "color": "#2a3f5f"
          },
          "geo": {
           "bgcolor": "white",
           "lakecolor": "white",
           "landcolor": "#E5ECF6",
           "showlakes": true,
           "showland": true,
           "subunitcolor": "white"
          },
          "hoverlabel": {
           "align": "left"
          },
          "hovermode": "closest",
          "mapbox": {
           "style": "light"
          },
          "paper_bgcolor": "white",
          "plot_bgcolor": "#E5ECF6",
          "polar": {
           "angularaxis": {
            "gridcolor": "white",
            "linecolor": "white",
            "ticks": ""
           },
           "bgcolor": "#E5ECF6",
           "radialaxis": {
            "gridcolor": "white",
            "linecolor": "white",
            "ticks": ""
           }
          },
          "scene": {
           "xaxis": {
            "backgroundcolor": "#E5ECF6",
            "gridcolor": "white",
            "gridwidth": 2,
            "linecolor": "white",
            "showbackground": true,
            "ticks": "",
            "zerolinecolor": "white"
           },
           "yaxis": {
            "backgroundcolor": "#E5ECF6",
            "gridcolor": "white",
            "gridwidth": 2,
            "linecolor": "white",
            "showbackground": true,
            "ticks": "",
            "zerolinecolor": "white"
           },
           "zaxis": {
            "backgroundcolor": "#E5ECF6",
            "gridcolor": "white",
            "gridwidth": 2,
            "linecolor": "white",
            "showbackground": true,
            "ticks": "",
            "zerolinecolor": "white"
           }
          },
          "shapedefaults": {
           "line": {
            "color": "#2a3f5f"
           }
          },
          "ternary": {
           "aaxis": {
            "gridcolor": "white",
            "linecolor": "white",
            "ticks": ""
           },
           "baxis": {
            "gridcolor": "white",
            "linecolor": "white",
            "ticks": ""
           },
           "bgcolor": "#E5ECF6",
           "caxis": {
            "gridcolor": "white",
            "linecolor": "white",
            "ticks": ""
           }
          },
          "title": {
           "x": 0.05
          },
          "xaxis": {
           "automargin": true,
           "gridcolor": "white",
           "linecolor": "white",
           "ticks": "",
           "title": {
            "standoff": 15
           },
           "zerolinecolor": "white",
           "zerolinewidth": 2
          },
          "yaxis": {
           "automargin": true,
           "gridcolor": "white",
           "linecolor": "white",
           "ticks": "",
           "title": {
            "standoff": 15
           },
           "zerolinecolor": "white",
           "zerolinewidth": 2
          }
         }
        },
        "title": {
         "text": "Happiness Ranking of Asia"
        }
       }
      }
     },
     "metadata": {},
     "output_type": "display_data"
    }
   ],
   "source": [
    "# Just the map of Asia\n",
    "asia = px.choropleth(merged_df, locations=\"iso_alpha\", color=\"rank\", scope=\"asia\", title=\"Happiness Ranking of Asia\", color_continuous_scale=\"rdylgn_r\", hover_name=\"country_name\")\n",
    "asia.show()"
   ]
  },
  {
   "cell_type": "code",
   "execution_count": 92,
   "metadata": {},
   "outputs": [
    {
     "data": {
      "application/vnd.plotly.v1+json": {
       "config": {
        "plotlyServerURL": "https://plot.ly"
       },
       "data": [
        {
         "coloraxis": "coloraxis",
         "geo": "geo",
         "hovertemplate": "<b>%{hovertext}</b><br><br>iso_alpha=%{location}<br>rank=%{z}<extra></extra>",
         "hovertext": [
          "Finland",
          "Denmark",
          "Iceland",
          "Israel",
          "Netherlands",
          "Sweden",
          "Norway",
          "Switzerland",
          "Luxembourg",
          "New Zealand",
          "Austria",
          "Australia",
          "Canada",
          "Ireland",
          "United States",
          "Germany",
          "Belgium",
          "Czechia",
          "United Kingdom",
          "Lithuania",
          "France",
          "Slovenia",
          "Costa Rica",
          "Romania",
          "Singapore",
          "United Arab Emirates",
          "Taiwan Province of China",
          "Uruguay",
          "Slovakia",
          "Saudi Arabia",
          "Estonia",
          "Spain",
          "Italy",
          "Kosovo",
          "Chile",
          "Mexico",
          "Malta",
          "Panama",
          "Poland",
          "Nicaragua",
          "Latvia",
          "Bahrain",
          "Guatemala",
          "Kazakhstan",
          "Serbia",
          "Cyprus",
          "Japan",
          "Croatia",
          "Brazil",
          "El Salvador",
          "Hungary",
          "Argentina",
          "Honduras",
          "Uzbekistan",
          "Malaysia",
          "Portugal",
          "South Korea",
          "Greece",
          "Mauritius",
          "Thailand",
          "Mongolia",
          "Kyrgyzstan",
          "Moldova",
          "China",
          "Vietnam",
          "Paraguay",
          "Montenegro",
          "Jamaica",
          "Bolivia",
          "Russia",
          "Bosnia and Herzegovina",
          "Colombia",
          "Dominican Republic",
          "Ecuador",
          "Peru",
          "Philippines",
          "Bulgaria",
          "Nepal",
          "Armenia",
          "Tajikistan",
          "Algeria",
          "Hong Kong S.A.R. of China",
          "Albania",
          "Indonesia",
          "South Africa",
          "Congo (Brazzaville)",
          "North Macedonia",
          "Venezuela",
          "Laos",
          "Georgia",
          "Guinea",
          "Ukraine",
          "Ivory Coast",
          "Gabon",
          "Nigeria",
          "Cameroon",
          "Mozambique",
          "Iraq",
          "State of Palestine",
          "Morocco",
          "Iran",
          "Senegal",
          "Mauritania",
          "Burkina Faso",
          "Namibia",
          "Turkiye",
          "Ghana",
          "Pakistan",
          "Niger",
          "Tunisia",
          "Kenya",
          "Sri Lanka",
          "Uganda",
          "Chad",
          "Cambodia",
          "Benin",
          "Myanmar",
          "Bangladesh",
          "Gambia",
          "Mali",
          "Egypt",
          "Togo",
          "Jordan",
          "Ethiopia",
          "Liberia",
          "India",
          "Madagascar",
          "Zambia",
          "Tanzania",
          "Comoros",
          "Malawi",
          "Botswana",
          "Congo (Kinshasa)",
          "Zimbabwe",
          "Sierra Leone",
          "Lebanon",
          "Afghanistan"
         ],
         "locations": [
          "FIN",
          "DNK",
          "ISL",
          "ISR",
          "NLD",
          "SWE",
          "NOR",
          "CHE",
          "LUX",
          "NZL",
          "AUT",
          "AUS",
          "CAN",
          "IRL",
          "USA",
          "DEU",
          "BEL",
          "CZE",
          "GBR",
          "LTU",
          "FRA",
          "SVN",
          "CRI",
          "ROU",
          "SGP",
          "ARE",
          "TWN",
          "URY",
          "SVK",
          "SAU",
          "EST",
          "ESP",
          "ITA",
          "XXK",
          "CHL",
          "MEX",
          "MLT",
          "PAN",
          "POL",
          "NIC",
          "LVA",
          "BHR",
          "GTM",
          "KAZ",
          "SRB",
          "CYP",
          "JPN",
          "HRV",
          "BRA",
          "SLV",
          "HUN",
          "ARG",
          "HND",
          "UZB",
          "MYS",
          "PRT",
          "PRK",
          "GRC",
          "MUS",
          "THA",
          "MNG",
          "KGZ",
          "MDA",
          "CHN",
          "VNM",
          "PRY",
          "MNE",
          "JAM",
          "BOL",
          "RUS",
          "BIH",
          "COL",
          "DOM",
          "ECU",
          "PER",
          "PHL",
          "BGR",
          "NPL",
          "ARM",
          "TJK",
          "DZA",
          "HKG",
          "ALB",
          "IDN",
          "ZAF",
          "COG",
          "MKD",
          "VEN",
          "LAO",
          "GEO",
          "GIN",
          "UKR",
          "CIV",
          "GAB",
          "NGA",
          "CMR",
          "MOZ",
          "IRQ",
          "PSE",
          "MAR",
          "IRN",
          "SEN",
          "MRT",
          "BFA",
          "NAM",
          "TUR",
          "GHA",
          "PAK",
          "NER",
          "TUN",
          "KEN",
          "LKA",
          "UGA",
          "TCD",
          "KHM",
          "BEN",
          "MMR",
          "BGD",
          "GMB",
          "MLI",
          "EGY",
          "TGO",
          "JOR",
          "ETH",
          "LBR",
          "IND",
          "MDG",
          "ZMB",
          "TZA",
          "COM",
          "MWI",
          "BWA",
          "COD",
          "ZWE",
          "SLE",
          "LBN",
          "AFG"
         ],
         "name": "",
         "type": "choropleth",
         "z": [
          1,
          2,
          3,
          4,
          5,
          6,
          7,
          8,
          9,
          10,
          11,
          12,
          13,
          14,
          15,
          16,
          17,
          18,
          19,
          20,
          21,
          22,
          23,
          24,
          25,
          26,
          27,
          28,
          29,
          30,
          31,
          32,
          33,
          34,
          35,
          36,
          37,
          38,
          39,
          40,
          41,
          42,
          43,
          44,
          44,
          46,
          47,
          48,
          48,
          50,
          51,
          52,
          53,
          54,
          55,
          56,
          57,
          58,
          59,
          60,
          61,
          62,
          63,
          64,
          65,
          66,
          67,
          68,
          69,
          70,
          71,
          72,
          73,
          74,
          75,
          76,
          77,
          78,
          79,
          80,
          81,
          82,
          83,
          83,
          85,
          86,
          87,
          88,
          89,
          90,
          91,
          92,
          93,
          94,
          95,
          96,
          97,
          98,
          99,
          100,
          101,
          102,
          103,
          104,
          105,
          106,
          107,
          108,
          109,
          110,
          111,
          112,
          113,
          114,
          115,
          116,
          117,
          118,
          119,
          120,
          121,
          122,
          123,
          124,
          125,
          126,
          127,
          128,
          129,
          130,
          131,
          132,
          133,
          134,
          135,
          136,
          137
         ]
        }
       ],
       "layout": {
        "coloraxis": {
         "colorbar": {
          "title": {
           "text": "rank"
          }
         },
         "colorscale": [
          [
           0,
           "rgb(0,104,55)"
          ],
          [
           0.1,
           "rgb(26,152,80)"
          ],
          [
           0.2,
           "rgb(102,189,99)"
          ],
          [
           0.3,
           "rgb(166,217,106)"
          ],
          [
           0.4,
           "rgb(217,239,139)"
          ],
          [
           0.5,
           "rgb(255,255,191)"
          ],
          [
           0.6,
           "rgb(254,224,139)"
          ],
          [
           0.7,
           "rgb(253,174,97)"
          ],
          [
           0.8,
           "rgb(244,109,67)"
          ],
          [
           0.9,
           "rgb(215,48,39)"
          ],
          [
           1,
           "rgb(165,0,38)"
          ]
         ]
        },
        "geo": {
         "center": {},
         "domain": {
          "x": [
           0,
           1
          ],
          "y": [
           0,
           1
          ]
         },
         "scope": "africa"
        },
        "legend": {
         "tracegroupgap": 0
        },
        "template": {
         "data": {
          "bar": [
           {
            "error_x": {
             "color": "#2a3f5f"
            },
            "error_y": {
             "color": "#2a3f5f"
            },
            "marker": {
             "line": {
              "color": "#E5ECF6",
              "width": 0.5
             },
             "pattern": {
              "fillmode": "overlay",
              "size": 10,
              "solidity": 0.2
             }
            },
            "type": "bar"
           }
          ],
          "barpolar": [
           {
            "marker": {
             "line": {
              "color": "#E5ECF6",
              "width": 0.5
             },
             "pattern": {
              "fillmode": "overlay",
              "size": 10,
              "solidity": 0.2
             }
            },
            "type": "barpolar"
           }
          ],
          "carpet": [
           {
            "aaxis": {
             "endlinecolor": "#2a3f5f",
             "gridcolor": "white",
             "linecolor": "white",
             "minorgridcolor": "white",
             "startlinecolor": "#2a3f5f"
            },
            "baxis": {
             "endlinecolor": "#2a3f5f",
             "gridcolor": "white",
             "linecolor": "white",
             "minorgridcolor": "white",
             "startlinecolor": "#2a3f5f"
            },
            "type": "carpet"
           }
          ],
          "choropleth": [
           {
            "colorbar": {
             "outlinewidth": 0,
             "ticks": ""
            },
            "type": "choropleth"
           }
          ],
          "contour": [
           {
            "colorbar": {
             "outlinewidth": 0,
             "ticks": ""
            },
            "colorscale": [
             [
              0,
              "#0d0887"
             ],
             [
              0.1111111111111111,
              "#46039f"
             ],
             [
              0.2222222222222222,
              "#7201a8"
             ],
             [
              0.3333333333333333,
              "#9c179e"
             ],
             [
              0.4444444444444444,
              "#bd3786"
             ],
             [
              0.5555555555555556,
              "#d8576b"
             ],
             [
              0.6666666666666666,
              "#ed7953"
             ],
             [
              0.7777777777777778,
              "#fb9f3a"
             ],
             [
              0.8888888888888888,
              "#fdca26"
             ],
             [
              1,
              "#f0f921"
             ]
            ],
            "type": "contour"
           }
          ],
          "contourcarpet": [
           {
            "colorbar": {
             "outlinewidth": 0,
             "ticks": ""
            },
            "type": "contourcarpet"
           }
          ],
          "heatmap": [
           {
            "colorbar": {
             "outlinewidth": 0,
             "ticks": ""
            },
            "colorscale": [
             [
              0,
              "#0d0887"
             ],
             [
              0.1111111111111111,
              "#46039f"
             ],
             [
              0.2222222222222222,
              "#7201a8"
             ],
             [
              0.3333333333333333,
              "#9c179e"
             ],
             [
              0.4444444444444444,
              "#bd3786"
             ],
             [
              0.5555555555555556,
              "#d8576b"
             ],
             [
              0.6666666666666666,
              "#ed7953"
             ],
             [
              0.7777777777777778,
              "#fb9f3a"
             ],
             [
              0.8888888888888888,
              "#fdca26"
             ],
             [
              1,
              "#f0f921"
             ]
            ],
            "type": "heatmap"
           }
          ],
          "heatmapgl": [
           {
            "colorbar": {
             "outlinewidth": 0,
             "ticks": ""
            },
            "colorscale": [
             [
              0,
              "#0d0887"
             ],
             [
              0.1111111111111111,
              "#46039f"
             ],
             [
              0.2222222222222222,
              "#7201a8"
             ],
             [
              0.3333333333333333,
              "#9c179e"
             ],
             [
              0.4444444444444444,
              "#bd3786"
             ],
             [
              0.5555555555555556,
              "#d8576b"
             ],
             [
              0.6666666666666666,
              "#ed7953"
             ],
             [
              0.7777777777777778,
              "#fb9f3a"
             ],
             [
              0.8888888888888888,
              "#fdca26"
             ],
             [
              1,
              "#f0f921"
             ]
            ],
            "type": "heatmapgl"
           }
          ],
          "histogram": [
           {
            "marker": {
             "pattern": {
              "fillmode": "overlay",
              "size": 10,
              "solidity": 0.2
             }
            },
            "type": "histogram"
           }
          ],
          "histogram2d": [
           {
            "colorbar": {
             "outlinewidth": 0,
             "ticks": ""
            },
            "colorscale": [
             [
              0,
              "#0d0887"
             ],
             [
              0.1111111111111111,
              "#46039f"
             ],
             [
              0.2222222222222222,
              "#7201a8"
             ],
             [
              0.3333333333333333,
              "#9c179e"
             ],
             [
              0.4444444444444444,
              "#bd3786"
             ],
             [
              0.5555555555555556,
              "#d8576b"
             ],
             [
              0.6666666666666666,
              "#ed7953"
             ],
             [
              0.7777777777777778,
              "#fb9f3a"
             ],
             [
              0.8888888888888888,
              "#fdca26"
             ],
             [
              1,
              "#f0f921"
             ]
            ],
            "type": "histogram2d"
           }
          ],
          "histogram2dcontour": [
           {
            "colorbar": {
             "outlinewidth": 0,
             "ticks": ""
            },
            "colorscale": [
             [
              0,
              "#0d0887"
             ],
             [
              0.1111111111111111,
              "#46039f"
             ],
             [
              0.2222222222222222,
              "#7201a8"
             ],
             [
              0.3333333333333333,
              "#9c179e"
             ],
             [
              0.4444444444444444,
              "#bd3786"
             ],
             [
              0.5555555555555556,
              "#d8576b"
             ],
             [
              0.6666666666666666,
              "#ed7953"
             ],
             [
              0.7777777777777778,
              "#fb9f3a"
             ],
             [
              0.8888888888888888,
              "#fdca26"
             ],
             [
              1,
              "#f0f921"
             ]
            ],
            "type": "histogram2dcontour"
           }
          ],
          "mesh3d": [
           {
            "colorbar": {
             "outlinewidth": 0,
             "ticks": ""
            },
            "type": "mesh3d"
           }
          ],
          "parcoords": [
           {
            "line": {
             "colorbar": {
              "outlinewidth": 0,
              "ticks": ""
             }
            },
            "type": "parcoords"
           }
          ],
          "pie": [
           {
            "automargin": true,
            "type": "pie"
           }
          ],
          "scatter": [
           {
            "fillpattern": {
             "fillmode": "overlay",
             "size": 10,
             "solidity": 0.2
            },
            "type": "scatter"
           }
          ],
          "scatter3d": [
           {
            "line": {
             "colorbar": {
              "outlinewidth": 0,
              "ticks": ""
             }
            },
            "marker": {
             "colorbar": {
              "outlinewidth": 0,
              "ticks": ""
             }
            },
            "type": "scatter3d"
           }
          ],
          "scattercarpet": [
           {
            "marker": {
             "colorbar": {
              "outlinewidth": 0,
              "ticks": ""
             }
            },
            "type": "scattercarpet"
           }
          ],
          "scattergeo": [
           {
            "marker": {
             "colorbar": {
              "outlinewidth": 0,
              "ticks": ""
             }
            },
            "type": "scattergeo"
           }
          ],
          "scattergl": [
           {
            "marker": {
             "colorbar": {
              "outlinewidth": 0,
              "ticks": ""
             }
            },
            "type": "scattergl"
           }
          ],
          "scattermapbox": [
           {
            "marker": {
             "colorbar": {
              "outlinewidth": 0,
              "ticks": ""
             }
            },
            "type": "scattermapbox"
           }
          ],
          "scatterpolar": [
           {
            "marker": {
             "colorbar": {
              "outlinewidth": 0,
              "ticks": ""
             }
            },
            "type": "scatterpolar"
           }
          ],
          "scatterpolargl": [
           {
            "marker": {
             "colorbar": {
              "outlinewidth": 0,
              "ticks": ""
             }
            },
            "type": "scatterpolargl"
           }
          ],
          "scatterternary": [
           {
            "marker": {
             "colorbar": {
              "outlinewidth": 0,
              "ticks": ""
             }
            },
            "type": "scatterternary"
           }
          ],
          "surface": [
           {
            "colorbar": {
             "outlinewidth": 0,
             "ticks": ""
            },
            "colorscale": [
             [
              0,
              "#0d0887"
             ],
             [
              0.1111111111111111,
              "#46039f"
             ],
             [
              0.2222222222222222,
              "#7201a8"
             ],
             [
              0.3333333333333333,
              "#9c179e"
             ],
             [
              0.4444444444444444,
              "#bd3786"
             ],
             [
              0.5555555555555556,
              "#d8576b"
             ],
             [
              0.6666666666666666,
              "#ed7953"
             ],
             [
              0.7777777777777778,
              "#fb9f3a"
             ],
             [
              0.8888888888888888,
              "#fdca26"
             ],
             [
              1,
              "#f0f921"
             ]
            ],
            "type": "surface"
           }
          ],
          "table": [
           {
            "cells": {
             "fill": {
              "color": "#EBF0F8"
             },
             "line": {
              "color": "white"
             }
            },
            "header": {
             "fill": {
              "color": "#C8D4E3"
             },
             "line": {
              "color": "white"
             }
            },
            "type": "table"
           }
          ]
         },
         "layout": {
          "annotationdefaults": {
           "arrowcolor": "#2a3f5f",
           "arrowhead": 0,
           "arrowwidth": 1
          },
          "autotypenumbers": "strict",
          "coloraxis": {
           "colorbar": {
            "outlinewidth": 0,
            "ticks": ""
           }
          },
          "colorscale": {
           "diverging": [
            [
             0,
             "#8e0152"
            ],
            [
             0.1,
             "#c51b7d"
            ],
            [
             0.2,
             "#de77ae"
            ],
            [
             0.3,
             "#f1b6da"
            ],
            [
             0.4,
             "#fde0ef"
            ],
            [
             0.5,
             "#f7f7f7"
            ],
            [
             0.6,
             "#e6f5d0"
            ],
            [
             0.7,
             "#b8e186"
            ],
            [
             0.8,
             "#7fbc41"
            ],
            [
             0.9,
             "#4d9221"
            ],
            [
             1,
             "#276419"
            ]
           ],
           "sequential": [
            [
             0,
             "#0d0887"
            ],
            [
             0.1111111111111111,
             "#46039f"
            ],
            [
             0.2222222222222222,
             "#7201a8"
            ],
            [
             0.3333333333333333,
             "#9c179e"
            ],
            [
             0.4444444444444444,
             "#bd3786"
            ],
            [
             0.5555555555555556,
             "#d8576b"
            ],
            [
             0.6666666666666666,
             "#ed7953"
            ],
            [
             0.7777777777777778,
             "#fb9f3a"
            ],
            [
             0.8888888888888888,
             "#fdca26"
            ],
            [
             1,
             "#f0f921"
            ]
           ],
           "sequentialminus": [
            [
             0,
             "#0d0887"
            ],
            [
             0.1111111111111111,
             "#46039f"
            ],
            [
             0.2222222222222222,
             "#7201a8"
            ],
            [
             0.3333333333333333,
             "#9c179e"
            ],
            [
             0.4444444444444444,
             "#bd3786"
            ],
            [
             0.5555555555555556,
             "#d8576b"
            ],
            [
             0.6666666666666666,
             "#ed7953"
            ],
            [
             0.7777777777777778,
             "#fb9f3a"
            ],
            [
             0.8888888888888888,
             "#fdca26"
            ],
            [
             1,
             "#f0f921"
            ]
           ]
          },
          "colorway": [
           "#636efa",
           "#EF553B",
           "#00cc96",
           "#ab63fa",
           "#FFA15A",
           "#19d3f3",
           "#FF6692",
           "#B6E880",
           "#FF97FF",
           "#FECB52"
          ],
          "font": {
           "color": "#2a3f5f"
          },
          "geo": {
           "bgcolor": "white",
           "lakecolor": "white",
           "landcolor": "#E5ECF6",
           "showlakes": true,
           "showland": true,
           "subunitcolor": "white"
          },
          "hoverlabel": {
           "align": "left"
          },
          "hovermode": "closest",
          "mapbox": {
           "style": "light"
          },
          "paper_bgcolor": "white",
          "plot_bgcolor": "#E5ECF6",
          "polar": {
           "angularaxis": {
            "gridcolor": "white",
            "linecolor": "white",
            "ticks": ""
           },
           "bgcolor": "#E5ECF6",
           "radialaxis": {
            "gridcolor": "white",
            "linecolor": "white",
            "ticks": ""
           }
          },
          "scene": {
           "xaxis": {
            "backgroundcolor": "#E5ECF6",
            "gridcolor": "white",
            "gridwidth": 2,
            "linecolor": "white",
            "showbackground": true,
            "ticks": "",
            "zerolinecolor": "white"
           },
           "yaxis": {
            "backgroundcolor": "#E5ECF6",
            "gridcolor": "white",
            "gridwidth": 2,
            "linecolor": "white",
            "showbackground": true,
            "ticks": "",
            "zerolinecolor": "white"
           },
           "zaxis": {
            "backgroundcolor": "#E5ECF6",
            "gridcolor": "white",
            "gridwidth": 2,
            "linecolor": "white",
            "showbackground": true,
            "ticks": "",
            "zerolinecolor": "white"
           }
          },
          "shapedefaults": {
           "line": {
            "color": "#2a3f5f"
           }
          },
          "ternary": {
           "aaxis": {
            "gridcolor": "white",
            "linecolor": "white",
            "ticks": ""
           },
           "baxis": {
            "gridcolor": "white",
            "linecolor": "white",
            "ticks": ""
           },
           "bgcolor": "#E5ECF6",
           "caxis": {
            "gridcolor": "white",
            "linecolor": "white",
            "ticks": ""
           }
          },
          "title": {
           "x": 0.05
          },
          "xaxis": {
           "automargin": true,
           "gridcolor": "white",
           "linecolor": "white",
           "ticks": "",
           "title": {
            "standoff": 15
           },
           "zerolinecolor": "white",
           "zerolinewidth": 2
          },
          "yaxis": {
           "automargin": true,
           "gridcolor": "white",
           "linecolor": "white",
           "ticks": "",
           "title": {
            "standoff": 15
           },
           "zerolinecolor": "white",
           "zerolinewidth": 2
          }
         }
        },
        "title": {
         "text": "Happiness Ranking of Africa"
        }
       }
      }
     },
     "metadata": {},
     "output_type": "display_data"
    }
   ],
   "source": [
    "# Just the map of Africa\n",
    "africa = px.choropleth(merged_df, locations=\"iso_alpha\", color=\"rank\", scope=\"africa\", title=\"Happiness Ranking of Africa\", color_continuous_scale=\"rdylgn_r\", hover_name=\"country_name\")\n",
    "africa.show()"
   ]
  }
 ],
 "metadata": {
  "kernelspec": {
   "display_name": "Python 3",
   "language": "python",
   "name": "python3"
  },
  "language_info": {
   "codemirror_mode": {
    "name": "ipython",
    "version": 3
   },
   "file_extension": ".py",
   "mimetype": "text/x-python",
   "name": "python",
   "nbconvert_exporter": "python",
   "pygments_lexer": "ipython3",
   "version": "3.12.0"
  }
 },
 "nbformat": 4,
 "nbformat_minor": 2
}
